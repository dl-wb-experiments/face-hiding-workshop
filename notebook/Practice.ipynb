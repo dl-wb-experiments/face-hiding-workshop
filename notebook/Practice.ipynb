{
 "cells": [
  {
   "cell_type": "markdown",
   "source": [
    "# OpenVINO DL Workbench: Знакомимся с Deep Learning и пишем своё первое AI приложение"
   ],
   "metadata": {}
  },
  {
   "cell_type": "markdown",
   "source": [
    "СЮДА КАРТИНКУ - ПРЕВЬЮ ИТОГОВОГО РЕЗУЛЬТАТА"
   ],
   "metadata": {}
  },
  {
   "cell_type": "markdown",
   "source": [
    "## 1. [Introduction](#intro)\n",
    "\n",
    "\n",
    "## 2. [OpenVINO Overview](#OV-overview)\n",
    "\n",
    "## 3. [OpenVINO Deep Learning Workbench](#DL-WB-overview)\n",
    "\n",
    "## 4. [Learn OpenVINO API](#OV-API)\n",
    "\n",
    "## 5. [Practice](#tasks)"
   ],
   "metadata": {
    "execution": {
     "iopub.execute_input": "2021-08-26T09:56:27.382889Z",
     "iopub.status.busy": "2021-08-26T09:56:27.382564Z",
     "iopub.status.idle": "2021-08-26T09:56:27.386235Z",
     "shell.execute_reply": "2021-08-26T09:56:27.385628Z",
     "shell.execute_reply.started": "2021-08-26T09:56:27.382853Z"
    }
   }
  },
  {
   "cell_type": "markdown",
   "source": [
    "# 1. Introduction  <a name=\"intro\"></a>\n",
    "\n",
    "### Workshop Contributors\n",
        "\n",
    "<figure style=\"display: inline-block;\">\n",
    "  <img style=\"border-radius: 50%;\" src=\"pictures/Demidovskij.jpg\" width=\"150\" height=\"150\"/>\n",
    "  <figcaption style=\"text-align: center; font-weight: bold;\">Alexander Demidovskij</figcaption>\n",
    "  <figcaption style=\"text-align: center\">Lead</figcaption>\n",
    "  <figcaption style=\"text-align: center\">\n",
    "    <a href=\"https://github.com/demid5111\"><img src=\"https://github.githubassets.com/favicons/favicon.svg\" width=\"22px\"></a>\n",
    "  </figcaption>\n",
    "</figure>\n",
    "\n",
    "<figure style=\"display: inline-block;\">\n",
    "  <img style=\"border-radius: 50%;\" src=\"pictures/Tarkan.jpg\" width=\"150\" height=\"150\"/>\n",
    "  <figcaption style=\"text-align: center; font-weight: bold;\">Yaroslav Tarkan</figcaption>\n",
    "  <figcaption style=\"text-align: center\">Full-Stack Comrade</figcaption>\n",
    "  <figcaption style=\"text-align: center\">\n",
    "    <a href=\"https://github.com/yatarkan\"><img src=\"https://github.githubassets.com/favicons/favicon.svg\" width=\"22px\"></a>\n",
    "  </figcaption>\n",
    "</figure>\n",
    "\n",
    "<figure style=\"display: inline-block;\">\n",
    "  <img style=\"border-radius: 50%;\" src=\"pictures/Tugaryov.jpg\" width=\"150\" height=\"150\"/>\n",
    "  <figcaption style=\"text-align: center; font-weight: bold;\">Artyom Tugaryov</figcaption>\n",
    "  <figcaption style=\"text-align: center\">Server-Side Comrade</figcaption>\n",
    "  <figcaption style=\"text-align: center\">\n",
    "    <a href=\"https://github.com/artyomtugaryov\"><img src=\"https://github.githubassets.com/favicons/favicon.svg\" width=\"22px\"></a>\n",
    "  </figcaption>\n",
    "</figure>\n",
    "\n",
    "<br>\n",
    "\n",
    "<figure style=\"display: inline-block; margin-left: 160px;\">\n",
    "  <img style=\"border-radius: 50%;\" src=\"pictures/Kashchikhin.jpg\" width=\"150\" height=\"150\"/>\n",
    "  <figcaption style=\"text-align: center; font-weight: bold;\">Andrej Kashchikhin</figcaption>\n",
    "  <figcaption style=\"text-align: center\">QA Comrade</figcaption>\n",
    "  <figcaption style=\"text-align: center\">\n",
    "    <a href=\"https://github.com/akashchi\"><img src=\"https://github.githubassets.com/favicons/favicon.svg\" width=\"22px\"></a>\n",
    "  </figcaption>\n",
    "</figure>\n",
    "\n",
    "<figure style=\"display: inline-block;\">\n",
    "  <img style=\"border-radius: 50%;\" src=\"pictures/Savina.jpg\" width=\"150\" height=\"150\"/>\n",
    "  <figcaption style=\"text-align: center; font-weight: bold;\">Tatiana Savina</figcaption>\n",
    "  <figcaption style=\"text-align: center\">Docs Comrade</figcaption>\n",
    "  <figcaption style=\"text-align: center\">\n",
    "    <a href=\"https://github.com/tsavina\"><img src=\"https://github.githubassets.com/favicons/favicon.svg\" width=\"22px\"></a>\n",
    "  </figcaption>\n",
    "</figure>\n",
    "\n",
    "### In This Workshop\n",
    "\n",
    "Welcome to the Deep Learning workshop where you will find out how to start working with pre-trained neural networks and write your AI application. For that, we will be using OpenVINO™ framework and its graphical interface Deep Learning Workbench. \n",
    "\n",
    "During this workshop you will:\n",
    "\n",
    "1. Learn the basics of neural model analysis and optimization:\n",
    "    - what a model is and how it works\n",
    "    - how to measure its performance and analyze the quality\n",
    "    - how to tune the model for enhanced performance\n",
    "2. Write your own AI application that detects faces and recognizes emotions on video\n",
    "\n",
    "### The Deep Learning Era\n",
    "\n",
    "Deep Learning recently has gained wide popularity due to significant breakthroughs in the artificial neural networks area. Deep Learning has enabled the development of various revolutionary AI applications. With Deep Learning, the algorithm does not need to be taught about the essential features. It can discover features from data on its own using a neural network. Generally, Deep Learning algorithms use a massive amounts of data and aim to simulate the human brain capacity to observe, learn, and make decisions, particularly for highly complex tasks. \n",
    "\n",
    "IMAGE!!!!!!\n",
    "\n",
    "To perform a specific AI task, the model is firstly trained on the known data. During training, the model makes predictions about what the data represents. Any error in the prediction is used to strengthen the artificial neuron connections until the acceptable accuracy level is achieved. The process of training usually happens only once, requires massive amount of data and powerful computing systems. \n",
    "\n",
    "The process of using a pre-trained model to make predictions against previously unseen data is called inference. Inference is performed on different devices, happens several times, and consists in feeding the images to the model. In this workshop we will work with model inference, in other words, we will execute the model already pre-trained to perform useful work.\n",
    "\n",
    "![](pictures/deep-learning.png)\n",
    "\n",
    "Author: Mark Robins, Intel, [Link](https://www.intel.ru/content/www/ru/ru/artificial-intelligence/posts/deep-learning-training-and-inference.html)\n",
    "\n",
    "Let's take a look at the inference on the real-life example of the vehical detection model. The model running alongside the traffic camera is continuously processing a video to identify the cars approaching the intersection. \n",
    "1. When a car enters at the red light, several photos of this car are taken and provided to the model, which locates a license plate on the image and sends it for further processing.\n",
    "2. At the server, a first inference is run to localize the license plate in the image, and a second inference is run to read the characters on the license plate. \n",
    "3. After this, the license plate information is sent to the data center, where an application checks for potential traffic violations. \n",
    "\n",
    "| Device| Data transmission costs | Power consumption|Сomputing resource|\n",
    "|:----- | :----- | :----- | :-----|\n",
    "|Traffic Camera   | Low| Low | Low |\n",
    "| Gateway Server| Average| Average| Average |\n",
    "|Data Center | High| High| Powerful|\n",
    "\n",
    "\n",
    "\n",
    "![](pictures/system.png)\n",
    "\n",
    "Author: Mark Robins, Intel, [Link](https://www.intel.ru/content/www/ru/ru/artificial-intelligence/posts/deep-learning-training-and-inference.html)\n",
    "\n",
    "Therefore, given the specific task and the cost of data transmission, it is often beneficial to bring the model inference closer to the target where the data was primarily received. In this case, the pre-trained model requires some accelerating modifications. So let's find out how the OpenVINO™ toolkit can help in achieving better performance of the Deep Learning models. "
   ],
   "metadata": {}
  },
  {
   "cell_type": "markdown",
   "source": [
    "# 2. OpenVINO™ Toolkit <a name=\"OV-overview\"></a>\n",
    "\n",
    "1. [How OpenVINO advances AI technologies](#customers) \n",
    "2. [Introduction to the Openvino toolkit](#OV-intro) \n",
    "3. [OpenVINO capabilities](#OV-capabilities)\n",
    "4. [OpenVINO components](#OV-components)\n",
    "5. [OpenVINO Open Model Zoo](#OMZ)"
   ],
   "metadata": {}
  },
  {
   "cell_type": "markdown",
   "source": [
    "## 2.1 How OpenVINO advances AI technologies <a name=\"customers\"></a>\n",
    "\n",
    "The OpenVINO™ toolkit is a comprehensive toolkit for optimizing pretrained deep learning models of various use cases to achieve high performance and prepare them for deployment on Intel® platforms. Based on latest generations of artificial neural networks, including Convolutional Neural Networks (CNNs), recurrent and attention-based networks, the toolkit extends computer vision and non-vision workloads across Intel® hardware, maximizing performance. It accelerates applications with high-performance, AI and deep learning inference deployed from edge to cloud."
   ],
   "metadata": {}
  },
  {
   "cell_type": "markdown",
   "source": [
    "SALES SLIDE - "
   ],
   "metadata": {}
  },
  {
   "cell_type": "markdown",
   "source": [
    "## 2.2 Introduction to the OpenVINO™ toolkit <a name=\"OV-intro\"></a>"
   ],
   "metadata": {}
  },
  {
   "cell_type": "markdown",
   "source": [
    "![](pictures/about_vino.png)"
   ],
   "metadata": {}
  },
  {
   "cell_type": "markdown",
   "source": [
    "## 2.3 OpenVINO™ Capabilities <a name=\"OV-capabilities\"></a>"
   ],
   "metadata": {}
  },
  {
   "cell_type": "markdown",
   "source": [
    "![](pictures/openvino_toolkit.png)"
   ],
   "metadata": {}
  },
  {
   "cell_type": "markdown",
   "source": [
    "## 2.4 OpenVINO™ Toolkit Components <a name=\"OV-components\"></a>"
   ],
   "metadata": {}
  },
  {
   "cell_type": "markdown",
   "source": [
    "![](pictures/additional_tools.png)"
   ],
   "metadata": {}
  },
  {
   "cell_type": "markdown",
   "source": [
    "## 2.5 OpenVINO™ Open Model Zoo <a name=\"OMZ\"></a>\n",
    "\n",
    "A model is a network that has been trained over a set of data using a certain framework. Since Deep learning technologies are used in various industrial\n",
    "applications, it is crucial to have an effective solution for each specific use case. OpenVINO Open Model Zoo provides a range of public and Intel pre-trained models to resolve a variety of different tasks, such as classification, object detection, segmentation and many others."
   ],
   "metadata": {}
  },
  {
   "cell_type": "markdown",
   "source": [
    "![](pictures/models.png)"
   ],
   "metadata": {}
  },
  {
   "cell_type": "markdown",
   "source": [
    "# 3. Deep Learning Workbench: OpenVINO™ Quickstart <a name=\"DL-WB-overview\"></a>\n",
    "\n",
    "1. [DL Workbench Capabilities](#DL-WB-capabilities)\n",
    "2. [DL Workbench Workflow](#DL-WB-workflow)"
   ],
   "metadata": {}
  },
  {
   "cell_type": "markdown",
   "source": [
    "Deep Learning Workbench (DL Workbench) is the official OpenVINO™ graphical interface designed to make the production of pretrained deep learning models significantly easier.\n",
    "With DL Workbench you can start working with your deep learning model right from your browser: import a model, analyze its performance and accuracy, visualize the outputs, optimize and prepare the model for deployment in a matter of minutes. \n"
   ],
   "metadata": {}
  },
  {
   "cell_type": "markdown",
   "source": [
    "![](pictures/openvino_toolkit-dl-wb-highlighted.png)"
   ],
   "metadata": {}
  },
  {
   "cell_type": "markdown",
   "source": [
    "## 3.1 DL Workbench Capabilities <a name=\"DL-WB-capabilities\"></a>"
   ],
   "metadata": {}
  },
  {
   "cell_type": "markdown",
   "source": [
    "<img src=\"pictures/diagrams_wb_new1.png\" width=\"1050\" />\n"
   ],
   "metadata": {}
  },
  {
   "cell_type": "markdown",
   "source": [
    "## 3.2 DL Workbench Workflow <a name=\"DL-WB-workflow\"></a>\n",
    "\n",
    "1. [Open DL Workbench](#open-wb)\n",
    "2. [Import the Model](#import-model)\n",
    "3. [Import the Dataset](#import-dataset) \n",
    "4. [Benchmark the Model](#model-inference)\n",
    "5. [Analyze the Model](#analyze-model) \n",
    "6. [Optimize the Model](#optimize-model)\n",
    "7. [Profile the Model](#profile-model)"
   ],
   "metadata": {}
  },
  {
   "cell_type": "code",
   "execution_count": null,
   "source": [
    "# Display button for opening DL Workbench\n",
    "from IPython.display import HTML\n",
    "\n",
    "HTML(\"\"\"<button class=\"wb-button\" onclick=\"window.open(location.origin, '_blank');\">Open DL Workbench</button><style>.wb-button { display: flex; width: fit-content; margin: 20px auto; align-items: center; height: 50px; font-size: 18px; font-weight: 400; font-family: inherit; line-height: 20px; background-color: #003C71; border: 1px solid #003C71; color: #ffffff; cursor: pointer; border-radius: 4px; padding: 0 30px; box-shadow: 0px 4px 10px rgba(0, 0, 0, 0.15);}</style>\"\"\")\n"
   ],
   "outputs": [],
   "metadata": {
    "tags": []
   }
  },
  {
   "cell_type": "markdown",
   "source": [
    "### Open DL Workbench <a name=\"open-wb\"></a>\n",
    "\n",
    "To start working with DL Workbench, click **Create** button to open the Create Project page.\n",
    "\n",
    "![](pictures/create_project_first_page.png)"
   ],
   "metadata": {}
  },
  {
   "cell_type": "markdown",
   "source": [
    "### Import the Model <a name=\"import-model\"></a>\n",
    "\n",
    "The first step is to import our model. Select and import face-detection-adas-0001 model from the Open Model Zoo. \n",
    "\n",
    "![](pictures/Import_model_button.png)"
   ],
   "metadata": {}
  },
  {
   "cell_type": "markdown",
   "source": [
    "![](pictures/Import_Model.png)"
   ],
   "metadata": {}
  },
  {
   "cell_type": "markdown",
   "source": [
    "### Import Dataset <a name=\"import-dataset\"></a>\n",
    "\n",
    "To work with the model, you need to obain the data. The data can be in different formats depending on the task the model is trained to perform. You can learn more about these formats in the [documentation](https://docs.openvinotoolkit.org/latest/workbench_docs_Workbench_DG_Dataset_Types.html). \n",
    "\n",
    "In our case, we will take a set of images and use them as the validation dataset. \n",
    "1. Use the following link to download the dataset: [Link](https://github.com/dl-wb-experiments/face-hiding-workshop/files/7043878/dataset.zip).\n",
    "2. Unarchive it;\n",
    "3. Go to DL Workbench.\n",
    "\n",
    "NORMAL DATASET!!!!"
   ],
   "metadata": {}
  },
  {
   "cell_type": "markdown",
   "source": [
    "![](pictures/dataset_select.png)"
   ],
   "metadata": {}
  },
  {
   "cell_type": "markdown",
   "source": [
    "Drag and drop the images from the archive to create the dataset and click **Import**.\n",
    "\n",
    "![](pictures/custom_dataset.png)"
   ],
   "metadata": {}
  },
  {
   "cell_type": "markdown",
   "source": [
    "### Benchmark the Model <a name=\"model-inference\"></a>\n",
    "\n",
    "We have imported our model and now want to check how fast it is. For that, let's create our first project. Select the model and the dataset by clicking on them. You can also choose a hardware accelerator on which a model will be executed. We will analyze how our model works on CPU since we have only this device available. "
   ],
   "metadata": {}
  },
  {
   "cell_type": "markdown",
   "source": [
    "![](pictures/Project_configured.png)\n"
   ],
   "metadata": {}
  },
  {
   "cell_type": "markdown",
   "source": [
    "### Analyze the Model <a name=\"analyze-model\"></a>\n",
    "\n",
    "When the inference stage is finished, we can see the result that we get after running our model on the CPU. Latency is the time required to process one image. The lower the value, the better. Throughput is the number of images (frames) processed per second. Higher throughput value means better performance. Let's check how the model works and try to make it even faster."
   ],
   "metadata": {}
  },
  {
   "cell_type": "markdown",
   "source": [
    "![](pictures/analyze.png)"
   ],
   "metadata": {}
  },
  {
   "cell_type": "markdown",
   "source": [
    "To test how the model works, you need to select an image from the downloaded dataset, upload this image and visualize the model predictions. \n",
    "\n"
   ],
   "metadata": {}
  },
  {
   "cell_type": "markdown",
   "source": [
    "![](pictures/predictions.png)"
   ],
   "metadata": {}
  },
  {
   "cell_type": "markdown",
   "source": [
    "### Optimize the Model <a name=\"optimize-model\"></a>"
   ],
   "metadata": {}
  },
  {
   "cell_type": "markdown",
   "source": [
    "One of the recommended ways to accelerate your model performance is to perform 8-bit integer (INT8) calibration.\n",
    "Calibration is the process of lowering the precision of a model from floating-point precision (for example, FP32 or FP16) to integer precision (INT8).\n",
    "A model in the INT8 precision takes up less memory and has higher throughput capacity. INT8 calibration is a universal method to speed up the model."
   ],
   "metadata": {}
  },
  {
   "cell_type": "markdown",
   "source": [
    "#### Quantize the Model to Low Precision"
   ],
   "metadata": {}
  },
  {
   "cell_type": "markdown",
   "source": [
    "![](pictures/quantization.PNG)"
   ],
   "metadata": {}
  },
  {
   "cell_type": "markdown",
   "source": [
    "#### Post-Trainig Optimization Toolkit\n"
   ],
   "metadata": {}
  },
  {
   "cell_type": "markdown",
   "source": [
    "In OpenVINO toolkit INT8 calibration is performed by Post-Training Optimization Tool (POT). POT is used to calibrate a model and then execute it in the INT8 precision.\n"
   ],
   "metadata": {}
  },
  {
   "cell_type": "markdown",
   "source": [
    "![](pictures/calibration-int8.png)\n"
   ],
   "metadata": {}
  },
  {
   "cell_type": "markdown",
   "source": [
    "![](pictures/int8-page.png)"
   ],
   "metadata": {}
  },
  {
   "cell_type": "markdown",
   "source": [
    "#### Analyze the Improvements"
   ],
   "metadata": {}
  },
  {
   "cell_type": "markdown",
   "source": [
    "![](pictures/dashboard-parent-vs-optimized.png)"
   ],
   "metadata": {}
  },
  {
   "cell_type": "markdown",
   "source": [
    "### Profile the Model <a name=\"profile-model\"></a>\n",
    "\n",
    "You can observe that after calibration the model has become faster. You can speed up your model even further if you set the parameters specific to each accelerator: streams and batches. In simple terms, streams is the number of cores and batches is the amount of images fed to the model. \n",
    "\n",
    "<img src=\"pictures/batch_stream_diagram.png\" width=\"1050\" />\n",
    "\n"
   ],
   "metadata": {}
  },
  {
   "cell_type": "markdown",
   "source": [
    "![](pictures/explore-inference.png)"
   ],
   "metadata": {}
  },
  {
   "cell_type": "markdown",
   "source": [
    "![](pictures/inference-table.png)"
   ],
   "metadata": {}
  },
  {
   "cell_type": "markdown",
   "source": [
    "After ensuring that our settings accelerated the model, let's use this information to create a working application."
   ],
   "metadata": {}
  },
  {
   "cell_type": "markdown",
   "source": [
    "Let’s recap briefly what you have learned at this stage:\n",
    "\n",
    "1. What a model is and how it works\n",
    "2. How to measure its performance\n",
    "3. How to accelerate the model using INT8 calibration\n",
    "4. How sets of streams and batches affect the model performance"
   ],
   "metadata": {}
  },
  {
   "cell_type": "markdown",
   "source": [
    "# 4. Learn OpenVINO™ API <a name=\"OV-API\"></a>"
   ],
   "metadata": {}
  },
  {
   "cell_type": "markdown",
   "source": [
    "Let's learn how to infer a model of object detection use case with OpenVINO™ Python interface and build our application. Object Detection in Computer Vision is a task of finding objects of a certain class and highlighting them with bounding boxes.\n",
    "\n",
    "We will go through the following steps:\n",
    "\n",
    "1. [Import required modules](#Import-Required-Modules) \n",
    "2. [Configure inference: path to a model and other data](#Configure-an-Inference)\n",
    "3. [Initialize the OpenVINO™ runtime](#Initialize-the-OpenVINO™-Runtime)\n",
    "4. [Read the model](#Read-the-Model)\n",
    "5. [Make the model executable](#Make-the-Model-Executable)\n",
    "6. [Load the Model to the Device](#Load-to-Device)\n",
    "7. [Prepare an image for model inference](#Prepare-an-Image-for-Model-Inference)\n",
    "8. [Infer the model](#Infer-the-Model)\n",
    "9. [Show predictions](#Show-Predictions)"
   ],
   "metadata": {}
  },
  {
   "cell_type": "markdown",
   "source": [
    "### 4.1. Import Required Modules <a name=\"Import-Required-Modules\"></a>\n",
    "\n",
    "Import the Python* modules that you will use in the sample code:\n",
    "- [pathlib](https://docs.python.org/3/library/os.html#module-os) is a standard Python module used for filename parsing.\n",
    "- [cv2](https://docs.opencv.org/trunk/) is an OpenCV module used to work with images.\n",
    "- [NumPy](http://www.numpy.org/) is an array manipulation module used to process images as arrays.\n",
    "- [OpenVINO Inference Engine](https://docs.openvinotoolkit.org/latest/openvino_docs_IE_DG_Deep_Learning_Inference_Engine_DevGuide.html) is an OpenVINO™ Python API module used for inference.\n",
    "- [IPython](https://ipython.readthedocs.io/en/stable/index.html) is an IPython API uused for showing images and videos in the notebook\n",
    "\n",
    "Run the cell below to import the modules. "
   ],
   "metadata": {}
  },
  {
   "cell_type": "code",
   "execution_count": null,
   "source": [
    "import os\n",
    "import cv2\n",
    "import numpy as np\n",
    "from openvino.inference_engine import IECore\n",
    "from IPython.display import HTML, Image, display\n",
    "from matplotlib import pyplot as plt\n",
    "\n",
    "%matplotlib inline"
   ],
   "outputs": [],
   "metadata": {
    "tags": []
   }
  },
  {
   "cell_type": "markdown",
   "source": [
    "### 4.2. Configure an Inference <a name=\"Configure-an-Inference\"></a>\n",
    "\n",
    "Once you have the OpenVINO™ IR of your model, you can start experimenting with it by inferring it and inspecting its output. \n",
    "\n",
    "> **NOTE**: Copy the paths to the `.xml` and `.bin` files from the DL Workbench UI and paste them below."
   ],
   "metadata": {}
  },
  {
   "cell_type": "markdown",
   "source": [
    "![](pictures/model-paths.png)"
   ],
   "metadata": {}
  },
  {
   "cell_type": "markdown",
   "source": [
    "#### Required parameters\n",
    "\n",
    "Parameter| Explanation\n",
    "---|---\n",
    "**model_xml**| Path to the `.xml` file of OpenVINO™ IR of your model\n",
    "**model_bin**| Path to the `.bin` file of OpenVINO™ IR of your model"
   ],
   "metadata": {}
  },
  {
   "cell_type": "code",
   "execution_count": null,
   "source": [
    "# Model IR files\n",
    "face_detection_model_xml = 'data/models/face-detection-adas-0001.xml'\n",
    "face_detection_model_bin = 'data/models/face-detection-adas-0001.bin'"
   ],
   "outputs": [],
   "metadata": {
    "tags": []
   }
  },
  {
   "cell_type": "markdown",
   "source": [
    "#### Optional Parameters\n",
    "\n",
    "Experiment with optional parameters after you go the full workflow of the tutorial.\n",
    "\n",
    "Parameter| Explanation\n",
    "---|---\n",
    "**input_image_path**| Path to an input image. Use the `car.bmp` image placed in the directory of the notebook or, if you have imported a dataset in the DL Workbench, copy the path to an image in the dataset.\n",
    "**device**| Specify the [target device](https://docs.openvinotoolkit.org/latest/workbench_docs_Workbench_DG_Select_Environment.html) to infer on: CPU, GPU, or MYRIAD. Note that the device must be present. For this tutorial, use `CPU` which is known to be present.\n",
    "**prob_threshold**| Probability threshold in percent to filter detection results "
   ],
   "metadata": {}
  },
  {
   "cell_type": "code",
   "execution_count": null,
   "source": [
    "# Input image file. \n",
    "input_image_path = 'data/input_image.jpg'\n",
    "\n",
    "# Device to use\n",
    "device = 'CPU'\n",
    "\n",
    "# Minimum percentage threshold to detect an object\n",
    "prob_threshold = 50\n",
    "\n",
    "print(\n",
    "f'''Configuration parameters settings:\n",
    "    model_xml={face_detection_model_xml},\n",
    "    model_bin={face_detection_model_bin},\n",
    "    input_image_path={input_image_path},\n",
    "    device={device}, \n",
    "    prob_threshold={prob_threshold}''',\n",
    ")"
   ],
   "outputs": [],
   "metadata": {
    "tags": []
   }
  },
  {
   "cell_type": "markdown",
   "source": [
    "### 4.3 Initialize the OpenVINO™ Runtime <a name=\"#Initialize-the-OpenVINO™-Runtime\"></a>\n",
    "\n",
    "Once you define the parameters, let's initiate the `IECore` object that accesses OpenVINO™ runtime capabilities."
   ],
   "metadata": {}
  },
  {
   "cell_type": "code",
   "execution_count": null,
   "source": [
    "# Create an Inference Engine instance\n",
    "ie_core = IECore()"
   ],
   "outputs": [],
   "metadata": {
    "tags": []
   }
  },
  {
   "cell_type": "markdown",
   "source": [
    "### 4.4 Read the Model <a name=\"#Read-the-Model\"></a>\n",
    "\n",
    "Put the IR of your model in the memory."
   ],
   "metadata": {}
  },
  {
   "cell_type": "code",
   "execution_count": null,
   "source": [
    "# Read the model from IR files\n",
    "face_detection_model = ie_core.read_network(model=face_detection_model_xml, weights=face_detection_model_bin)"
   ],
   "outputs": [],
   "metadata": {
    "tags": []
   }
  },
  {
   "cell_type": "markdown",
   "source": [
    "### 4.5 Make the Model Executable <a name=\"#Make-the-Model-Executable\"></a>\n",
    "\n",
    "Reading a network is not enough to start a model inference. The model must be loaded to a particular abstraction representing a particular accelerator. In OpenVINO™, this abstraction is called *plugin*. A network loaded to a plugin becomes executable and will be inferred in one of the next steps. \n",
    "\n",
    "After loading, we keep necessary model information such as names of input and output blobs: `input_blob` and `output_blob`. Let's remember the input dimensions of your model:\n",
    "- `n` - input batch size\n",
    "- `c` - number of input channels. Often, it is `1` or `3`, which means that the model expects either a grayscale or a color image.\n",
    "- `h` - input image height\n",
    "- `w` - input image width"
   ],
   "metadata": {}
  },
  {
   "cell_type": "code",
   "execution_count": null,
   "source": [
    "# Store names of input and output of the model\n",
    "face_detector_input_name = next(iter(face_detection_model.input_info))\n",
    "face_detector_output_name = next(iter(face_detection_model.outputs))\n",
    "\n",
    "# Read the input dimensions: n=batch size, c=number of channels, h=height, w=width\n",
    "face_detector_input_shape = face_detection_model.input_info[face_detector_input_name].input_data.shape\n",
    "n, c, face_detector_input_height, face_detector_input_width = face_detector_input_shape\n",
    "\n",
    "print(f'Face Detection model input dimensions: n={n}, c={c}, h={face_detector_input_height}, w={face_detector_input_width}')"
   ],
   "outputs": [],
   "metadata": {
    "tags": []
   }
  },
  {
   "cell_type": "markdown",
   "source": [
    "<img src=\"pictures/face_detection.png\" width=\"1050\" />"
   ],
   "metadata": {}
  },
  {
   "cell_type": "markdown",
   "source": [
    "### 4.6 Load the Model to the Device <a name=\"#Load-to-Device\"></a>\n",
    "\n",
    "This step is necessary to infer the model. You can learn more in the [documentation](https://docs.openvinotoolkit.org/latest/ie_python_api/classie__api_1_1IECore.html#ac9a2e043d14ccfa9c6bbf626cfd69fcc)"
   ],
   "metadata": {}
  },
  {
   "cell_type": "code",
   "execution_count": null,
   "source": [
    "face_detector = ie_core.load_network(network=face_detection_model, device_name=device)\n",
    "print(f'Loaded the model into the {device} device.')"
   ],
   "outputs": [],
   "metadata": {
    "tags": []
   }
  },
  {
   "cell_type": "markdown",
   "source": [
    "### 4.7 Prepare an Image for Model Inference <a name=\"#Prepare-an-Image-for-Model-Inference\"></a>\n",
    "\n",
    "Now let's read and prepare the input image by resizing and re-arranging its dimensions according to the input dimensions of the model."
   ],
   "metadata": {}
  },
  {
   "cell_type": "code",
   "execution_count": null,
   "source": [
    "# Define the function to load the input image\n",
    "def load_input_image(input_path):   \n",
    "    # Use OpenCV to load the input image\n",
    "    return cv2.imread(input_path)\n",
    "\n",
    "# Define the function to pre-process (resize, transpose) the input image\n",
    "def pre_process_input_image(image: np.ndarray, target_height: int, target_width: int) -> np.ndarray:\n",
    "    # Resize the image dimensions from image to model input w x h\n",
    "    resized_image = cv2.resize(image, (target_width, target_height))\n",
    "    \n",
    "    # Change data layout from HWC to CHW\n",
    "    transposed_image = resized_image.transpose((2, 0, 1))\n",
    "    \n",
    "    n = 1 # Batch is always 1 in our case\n",
    "    c = 3 # Channels is always 3 in our case\n",
    "    \n",
    "    # Reshape to input dimensions\n",
    "    reshaped_image = transposed_image.reshape((n, c, target_height, target_width))\n",
    "    return reshaped_image\n",
    "\n",
    "# Define the function to show an image\n",
    "def show_image(image: np.ndarray):\n",
    "    plt.axis('off')\n",
    "    plt.imshow(cv2.cvtColor(image, cv2.COLOR_BGR2RGB))\n",
    "    # Encode ndarray\n",
    "#     _, data = cv2.imencode('.jpg', image) \n",
    "    \n",
    "    # Create IPython.display.Image instance to display the image in the notebook\n",
    "#     image = Image(data=data)\n",
    "\n",
    "#     display(image)"
   ],
   "outputs": [],
   "metadata": {
    "tags": []
   }
  },
  {
   "cell_type": "code",
   "execution_count": null,
   "source": [
    "original_image = load_input_image(input_image_path)\n",
    "show_image(original_image)"
   ],
   "outputs": [],
   "metadata": {
    "tags": []
   }
  },
  {
   "cell_type": "code",
   "execution_count": null,
   "source": [
    "# Save the shape of the original image to scale inference results in the feature\n",
    "original_image_height, original_image_width, *_ = original_image.shape\n",
    "\n",
    "# Prepare the image\n",
    "input_frame = pre_process_input_image(original_image, target_height=face_detector_input_height, target_width=face_detector_input_width)\n",
    "\n",
    "# Display the input image\n",
    "show_image(input_frame)"
   ],
   "outputs": [],
   "metadata": {
    "tags": []
   }
  },
  {
   "cell_type": "markdown",
   "source": [
    "### 4.8 Infer the Model <a name=\"#Infer-the-Model\"></a>\n",
    "\n",
    "Now let's proceed to the inference by feeding the prepared image to the model."
   ],
   "metadata": {}
  },
  {
   "cell_type": "code",
   "execution_count": null,
   "source": [
    "face_detection_inference_results = face_detector.infer(\n",
    "    inputs={\n",
    "        face_detector_input_name: input_frame\n",
    "    }\n",
    ")"
   ],
   "outputs": [],
   "metadata": {}
  },
  {
   "cell_type": "markdown",
   "source": [
    "Then we print the inference results which is a dictionary where the keys are the names of the outputs and the values are the inference results for each output layer."
   ],
   "metadata": {}
  },
  {
   "cell_type": "code",
   "execution_count": null,
   "source": [
    "print(face_detection_inference_results)"
   ],
   "outputs": [],
   "metadata": {
    "tags": []
   }
  },
  {
   "cell_type": "markdown",
   "source": [
    "Get the needed inference results for single output."
   ],
   "metadata": {}
  },
  {
   "cell_type": "code",
   "execution_count": null,
   "source": [
    "face_detection_inference_results = face_detection_inference_results[face_detector_output_name]"
   ],
   "outputs": [],
   "metadata": {}
  },
  {
   "cell_type": "markdown",
   "source": [
    "### 4.9 Show Predictions <a name=\"#Show-Predictions\"></a>\n",
    "\n",
    "The next step is to parse the inference results and draw boxes over the objects detected in the image.\n",
    "\n",
    "A result of model inference (`face_detection_inference_results`) is an array of predictions. Each prediction `object` has a following structure:\n",
    "\n",
    "- `object[2]`: Confidence level that currently detected object is an instance of the predicted class\n",
    "- `object[3]`: lower x coordinate of the detected object \n",
    "- `object[4]`: lower y coordinate of the detected object\n",
    "- `object[5]`: upper x coordinate of the detected object\n",
    "- `object[6]`: upper y coordinate of the detected object"
   ],
   "metadata": {}
  },
  {
   "cell_type": "markdown",
   "source": [
    "![](pictures/models_diagram.png)"
   ],
   "metadata": {}
  },
  {
   "cell_type": "markdown",
   "metadata": {},
   "source": [
    "The function of converting the initial results of the face detector into a convenient structure."
   ],
   "metadata": {}
  },
  {
   "cell_type": "code",
   "execution_count": null,
   "source": [
    "def parse_face_detection_results(inference_results: np.ndarray, original_image_width: int, original_image_height: int) -> list:\n",
    "    # Prepare list to save detected faces \n",
    "    detected_faces = []\n",
    "    \n",
    "    # Iterate through all detected faces\n",
    "    for inference_result in inference_results[0][0]:\n",
    "        \n",
    "        # Get the probability of the detected face and convert it to percent\n",
    "        probability = inference_result[2]\n",
    "        confidence = round(probability * 100, 1)\n",
    "\n",
    "        # If confidence is more than the specified threshold, draw and label the box \n",
    "        if confidence < prob_threshold:\n",
    "            continue\n",
    "\n",
    "        # Get coordinates of the box containing the detected object\n",
    "        xmin = int(inference_result[3] * original_image_width)\n",
    "        ymin = int(inference_result[4] * original_image_height)\n",
    "        xmax = int(inference_result[5] * original_image_width)\n",
    "        ymax = int(inference_result[6] * original_image_height)\n",
    "\n",
    "        detected_face = (xmin, ymin, xmax, ymax, confidence)\n",
    "        detected_faces.append(detected_face)\n",
    "            \n",
    "    return detected_faces"
   ],
   "outputs": [],
   "metadata": {}
  },
  {
   "cell_type": "markdown",
   "source": [
    "Parse faces."
   ],
   "metadata": {}
  },
  {
   "cell_type": "code",
   "execution_count": null,
   "source": [
    "# Parse detected faces from inference results \n",
    "detected_faces = parse_face_detection_results(face_detection_inference_results, original_image_width, original_image_height)\n",
    "detected_faces"
   ],
   "outputs": [],
   "metadata": {
    "tags": []
   }
  },
  {
   "cell_type": "markdown",
   "source": [
    "The function to process inference results of the face detector - draw boxes in the original image."
   ],
   "metadata": {}
  },
  {
   "cell_type": "code",
   "execution_count": null,
   "source": [
    "# Function to process inference results of the face detector \n",
    "def draw_boxes_of_detected_faces(detected_faces: list, original_image: np.ndarray) -> np.ndarray:\n",
    "    processed_image = original_image.copy()\n",
    "    \n",
    "    # Get output results\n",
    "    color = (12.5, 255, 255)\n",
    "    \n",
    "    # Loop through all possible results\n",
    "    for detected_face in detected_faces:\n",
    "        xmin, ymin, xmax, ymax, confidence = detected_face\n",
    "\n",
    "        # Draw the box and label for the detected object\n",
    "        cv2.rectangle(processed_image, (xmin, ymin), (xmax, ymax), color, 4)\n",
    "        cv2.putText(processed_image, \n",
    "                    f'{confidence} %', (xmin, ymin - 7), \n",
    "                    cv2.FONT_HERSHEY_COMPLEX, 1, color, 2)\n",
    "            \n",
    "    return processed_image"
   ],
   "outputs": [],
   "metadata": {}
  },
  {
   "cell_type": "code",
   "execution_count": null,
   "source": [
    "# Draw boxes of the detected faces in the image\n",
    "processed_image = draw_boxes_of_detected_faces(detected_faces, original_image)\n",
    "\n",
    "show_image(processed_image)"
   ],
   "outputs": [],
   "metadata": {}
  },
  {
   "cell_type": "markdown",
   "source": [
    "# Practice <a name=\"tasks\"></a>\n",
    "\n",
    "1. [Task 1: Apply predefined blur method to the given image at inferred coordinates](#task1) \n",
    "2. [Task 2: Add blurring logic to pre-defined video processor](#task2)\n",
    "3. [Task 3: Replace each face on the photo with a smile with corresponding emotion](#task3) \n",
    "4. [Task 4: Put Smiles on Top of the Face in the Video](#task4)"
   ],
   "metadata": {}
  },
  {
   "cell_type": "markdown",
   "source": [
    "## Task 1: Apply predefined blur method to the given image at inferred coordinates <a name=\"#task1\"></a>\n",
    "\n",
    "The goal of this task is to blur all detected faces on the photo. We prepared the functions to process detected faces and blur the faces. You need to fill the part by cutting the face from the image, blur it, and past the blurry image to the image."
   ],
   "metadata": {}
  },
  {
   "cell_type": "markdown",
   "source": [
    "First of all, define the function to blur a part of the image."
   ],
   "metadata": {}
  },
  {
   "cell_type": "code",
   "execution_count": null,
   "source": [
    "def blur(image: np.ndarray) -> np.ndarray:\n",
    "    height, width = image.shape[:2]\n",
    "    pixels_count = 16\n",
    "    \n",
    "    # Resize the image to pixels_count*pixels_count with interpolation to blur the image\n",
    "    resized_image = cv2.resize(image, (pixels_count, pixels_count), interpolation=cv2.INTER_LINEAR)\n",
    "    # Resize the image to original image size\n",
    "    return cv2.resize(resized_image, (width, height), interpolation=cv2.INTER_NEAREST)"
   ],
   "outputs": [],
   "metadata": {
    "tags": []
   }
  },
  {
   "cell_type": "code",
   "execution_count": null,
   "source": [
    "# Load an example image \n",
    "example_image = load_input_image('pictures/Tarkan.jpg')\n",
    "print('Original image:')\n",
    "show_image(example_image)\n",
    "\n",
    "# Blur the image\n",
    "print('Blurry image:')\n",
    "blurry_image = blur(example_image)\n",
    "show_image(blurry_image)"
   ],
   "outputs": [],
   "metadata": {
    "tags": []
   }
  },
  {
   "cell_type": "code",
   "execution_count": null,
   "metadata": {
    "tags": []
   },
   "outputs": [],
   "source": [
    "# Load an example image \n",
    "example_image = load_input_image('pictures/Tarkan.jpg')\n",
    "print('Original image:')\n",
    "show_image(example_image)\n",
    "\n",
    "# blur the image\n",
    "print('Blurry image:')\n",
    "blurry_image = blur(example_image)\n",
    "show_image(blurry_image)"
   ]
  },
  {
   "cell_type": "markdown",
   "source": [
    "Now define the function for the inference. This function must prepare image for inference (use `pre_process_input_image` for this) and run inference of the image using  `face_detectior`. Note that this function will also be used later. "
   ],
   "metadata": {}
  },
  {
   "cell_type": "code",
   "execution_count": null,
   "source": [
    "def face_detector_inference(image: np.ndarray)-> np.ndarray:\n",
    "    # 1. Prepare the image\n",
    "    input_frame = pre_process_input_image(image, target_width=face_detector_input_width, target_height=face_detector_input_height)\n",
    "\n",
    "    # 2. Infer the model\n",
    "    face_detection_inference_results = face_detector.infer(inputs={face_detector_input_name: input_frame})  \n",
    "    return face_detection_inference_results[face_detector_output_name]"
   ],
   "outputs": [],
   "metadata": {}
  },
  {
   "cell_type": "markdown",
   "source": [
    "Infer the model on the given image."
   ],
   "metadata": {}
  },
  {
   "cell_type": "code",
   "execution_count": null,
   "source": [
    "inference_result = face_detector_inference(original_image)"
   ],
   "outputs": [],
   "metadata": {
    "tags": []
   }
  },
  {
   "cell_type": "markdown",
   "source": [
    "Then define the function to process inference results of the face detection model. Use the `blur` function to blur the part of the image where the face is located."
   ],
   "metadata": {}
  },
  {
   "cell_type": "code",
   "execution_count": null,
   "source": [
    "def blur_faces(face_detection_inference_result: np.ndarray, original_image: np.ndarray) -> np.ndarray:\n",
    "    # Get original image size  \n",
    "    original_image_height, original_image_width,  _ = original_image.shape\n",
    "    \n",
    "    # Prepare result image to not affect the original image\n",
    "    processed_image = original_image.copy()\n",
    "    \n",
    "    \n",
    "    detected_faces = parse_face_detection_results(face_detection_inference_result, original_image_width, original_image_height)\n",
    "\n",
    "    for detected_face in detected_faces:\n",
    "        xmin, ymin, xmax, ymax, _ = detected_face\n",
    "        # Get the face from the original image \n",
    "        face = original_image[ymin:ymax, xmin:xmax]\n",
    "        # Blur face using blur function \n",
    "        blurry_face = blur(face)\n",
    "        # replace the face to the blurry face in the result image \n",
    "        processed_image[ymin:ymax, xmin:xmax] = blurry_face\n",
    "            \n",
    "    return processed_image"
   ],
   "outputs": [],
   "metadata": {
    "tags": []
   }
  },
  {
   "cell_type": "code",
   "execution_count": null,
   "source": [
    "def blur_faces(face_detection_inference_result: np.ndarray, original_image: np.ndarray) -> np.ndarray:\n",
    "    # Get original image size  \n",
    "    original_image_height, original_image_width,  _ = original_image.shape\n",
    "    \n",
    "    # Prepare result image to not affect the original image\n",
    "    processed_image = original_image.copy()\n",
    "    \n",
    "    \n",
    "    # 1. Parse model inference results\n",
    "    detected_faces = # ...\n",
    "    \n",
    "    # 2. Iterate through faces and blur each face\n",
    "    for detected_face in detected_faces:\n",
    "        pass\n",
    "            \n",
    "    return processed_image"
   ],
   "outputs": [],
   "metadata": {
    "tags": []
   }
  },
  {
   "cell_type": "markdown",
   "source": [
    "Run face detector inference and blur faces on the image."
   ],
   "metadata": {}
  },
  {
   "cell_type": "code",
   "execution_count": null,
   "source": [
    "# 3. Blur faces on image\n",
    "processed_image = blur_faces(inference_result, original_image)\n",
    "\n",
    "show_image(processed_image)"
   ],
   "outputs": [],
   "metadata": {
    "tags": []
   }
  },
  {
   "cell_type": "markdown",
   "source": [
    "## Task 2: Add blurring logic to pre-defined video processor <a name=\"#task2\"></a>\n",
    "\n",
    "Now that we have learned how to blur faces on a image, let's try to blur all faces in a video. We will use the previously defined functions to do this. "
   ],
   "metadata": {}
  },
  {
   "cell_type": "markdown",
   "source": [
    "Define paths to input and output videos."
   ],
   "metadata": {}
  },
  {
   "cell_type": "code",
   "execution_count": null,
   "source": [
    "# Input video file\n",
    "input_video_path = 'data/input.mp4'\n",
    "\n",
    "# Output video file\n",
    "output_video_path = 'data/output.mp4'"
   ],
   "outputs": [],
   "metadata": {}
  },
  {
   "cell_type": "markdown",
   "source": [
    "Open the input video."
   ],
   "metadata": {}
  },
  {
   "cell_type": "code",
   "execution_count": null,
   "source": [
    "input_video_stream = cv2.VideoCapture(input_video_path)"
   ],
   "outputs": [],
   "metadata": {}
  },
  {
   "cell_type": "markdown",
   "source": [
    "Create output video stream."
   ],
   "metadata": {}
  },
  {
   "cell_type": "code",
   "execution_count": null,
   "source": [
    "def prepare_output_video_stream(input_video_stream: cv2.VideoCapture, output_video_file_path: str) -> cv2.VideoWriter:\n",
    "    width  = int(input_video_stream.get(3))\n",
    "    height = int(input_video_stream.get(4))\n",
    "    video_writer = cv2.VideoWriter(output_video_file_path, cv2.VideoWriter_fourcc(*'avc1'), 20, (width, height))\n",
    "    return video_writer\n",
    "\n",
    "output_video_stream = prepare_output_video_stream(input_video_stream, output_video_path)"
   ],
   "outputs": [],
   "metadata": {}
  },
  {
   "cell_type": "code",
   "execution_count": null,
   "source": [
    "while input_video_stream.isOpened():\n",
    "    # 1. Read the next frame from the input video \n",
    "    return_code, original_frame = input_video_stream.read()\n",
    "    if not return_code:\n",
    "        break\n",
    "        \n",
    "    inference_result = face_detector_inference(original_frame)\n",
    "\n",
    "    # 3. Blur faces on image\n",
    "    processed_image = blur_faces(inference_result, original_frame)\n",
    "    \n",
    "    # 3. Write the resulting frame to the output stream\n",
    "    output_video_stream.write(processed_image)\n",
    "    \n",
    "\n",
    "input_video_stream.release()\n",
    "# Save the resulting video\n",
    "output_video_stream.release()"
   ],
   "outputs": [],
   "metadata": {
    "jupyter": {
     "source_hidden": true
    },
    "tags": []
   }
  },
  {
   "cell_type": "code",
   "execution_count": null,
   "source": [
    "while input_video_stream.isOpened():\n",
    "    # 1. Read the next frame from the input video \n",
    "    return_code, original_frame = input_video_stream.read()\n",
    "    if not return_code:\n",
    "        break\n",
    "        \n",
    "    \n",
    "    # 2. Infer face detector\n",
    "    inference_result = # ...\n",
    "\n",
    "    # 3. Blur faces on image\n",
    "    processed_image = # ...\n",
    "    \n",
    "    # 3. Write the resulting frame to the output stream\n",
    "    output_video_stream.write(processed_image)\n",
    "    \n",
    "\n",
    "input_video_stream.release()\n",
    "# Save the resulting video\n",
    "output_video_stream.release()"
   ],
   "outputs": [],
   "metadata": {}
  },
  {
   "cell_type": "code",
   "execution_count": null,
   "source": [
    "# Show a source video\n",
    "HTML(f\"\"\"<video width=\"600\" height=\"400\" controls><source src=\"{output_video_path}\" type=\"video/mp4\"></video>\"\"\")"
   ],
   "outputs": [],
   "metadata": {}
  },
  {
   "cell_type": "markdown",
   "source": [
    "## Task 3: Replace each face on the photo with a smile with corresponding emotion <a name=\"#task3\"></a>"
   ],
   "metadata": {}
  },
  {
   "cell_type": "markdown",
   "source": [
    "###  Download a Pretrained Model from the Open Model Zoo\n",
    "\n",
    "OpenVINO™ toolkit includes the [Model Optimizer](http://docs.openvinotoolkit.org/latest/_docs_MO_DG_Deep_Learning_Model_Optimizer_DevGuide.html) used to convert and optimize trained models into Intermediate Representation (IR) model files, and the [Inference Engine](http://docs.openvinotoolkit.org/latest/_docs_IE_DG_Deep_Learning_Inference_Engine_DevGuide.html), which uses the IR model files to run an inference on hardware devices. The IR model files are created from models trained in popular frameworks, like Caffe\\*, TensorFlow\\*, and others. \n",
    "\n",
    "OpenVINO™ [Model Downloader](http://docs.openvinotoolkit.org/latest/_tools_downloader_README.html) downloads common inference models from the [Intel® Open Model Zoo](https://github.com/opencv/open_model_zoo). \n",
    "\n",
    "Let's download the `emotions-recognition-retail-0003` model first."
   ],
   "metadata": {}
  },
  {
   "cell_type": "code",
   "execution_count": null,
   "source": [
    "!python3 /opt/intel/openvino_2021/deployment_tools/open_model_zoo/tools/downloader/downloader.py --name emotions-recognition-retail-0003 --precision FP16 --output_dir data/model"
   ],
   "outputs": [],
   "metadata": {
    "tags": []
   }
  },
  {
   "cell_type": "code",
   "execution_count": null,
   "source": [
    "# Model IR files\n",
    "emotion_recognition_model_xml = 'data/model/intel/emotions-recognition-retail-0003/FP16/emotions-recognition-retail-0003.xml'\n",
    "emotion_recognition_model_bin = 'data/model/intel/emotions-recognition-retail-0003/FP16/emotions-recognition-retail-0003.bin'"
   ],
   "outputs": [],
   "metadata": {
    "tags": []
   }
  },
  {
   "cell_type": "markdown",
   "source": [
    "### Read the Model "
   ],
   "metadata": {}
  },
  {
   "cell_type": "markdown",
   "source": [
    "Call ie_core.read_network to read the OpenVINO IR model. The method has two arguments:\n",
    "    \n",
    "    1. model - path to the xml model file\n",
    "    2. weights - path to the bin model file"
   ],
   "metadata": {}
  },
  {
   "cell_type": "code",
   "execution_count": null,
   "source": [
    "emotion_recognition_model = ie_core.read_network(model=emotion_recognition_model_xml, weights=emotion_recognition_model_bin)"
   ],
   "outputs": [],
   "metadata": {
    "tags": []
   }
  },
  {
   "cell_type": "markdown",
   "source": [
    "### Get Input Name and Shape of the Model "
   ],
   "metadata": {}
  },
  {
   "cell_type": "markdown",
   "source": [
    "Get the input name and shape of the emotion recognizer. For more information about the model, refer the [documentation](https://docs.openvinotoolkit.org/latest/omz_models_model_emotions_recognition_retail_0003.html)"
   ],
   "metadata": {}
  },
  {
   "cell_type": "code",
   "execution_count": null,
   "source": [
    "emotion_recognizer_input_name = next(iter(emotion_recognition_model.input_info))\n",
    "\n",
    "emotion_recognizer_input_shape = emotion_recognition_model.input_info[emotion_recognizer_input_name].input_data.shape\n",
    "n, c, emotion_recognizer_input_height, emotion_recognizer_input_width = emotion_recognizer_input_shape\n",
    "\n",
    "print(f'Input shape of the emotion recognition network is n={n}, c={c}, h={emotion_recognizer_input_height}, w={emotion_recognizer_input_width}')"
   ],
   "outputs": [],
   "metadata": {
    "tags": []
   }
  },
  {
   "cell_type": "code",
   "execution_count": null,
   "source": [
    "emotion_recognizer_output_name = next(iter(emotion_recognition_model.outputs))"
   ],
   "outputs": [],
   "metadata": {
    "tags": []
   }
  },
  {
   "cell_type": "markdown",
   "source": [
    "<img src=\"pictures/emotion_recognition.png\" width=\"1050\" />"
   ],
   "metadata": {}
  },
  {
   "cell_type": "markdown",
   "source": [
    "### Step 4: Load the Network to the Device\n",
    "\n",
    "Use the instance of `IECore`.\n",
    "The class `IECore` has a special function called `load_network`, which loads a network to a device.\n",
    "This function prepares the network for the first inference on the device \n",
    "and returns an instance of the network prepared for an inference (execution). \n",
    "This function has many parameters, but in this case, you need to know only about two of them:\n",
    "* `network` - instance of `IENetwork`\n",
    "* `device_name` - string, contains a device name to infer a model on: CPU, GPU and so on."
   ],
   "metadata": {}
  },
  {
   "cell_type": "code",
   "execution_count": null,
   "source": [
    "emotion_recognizer = ie_core.load_network(emotion_recognition_model, device)"
   ],
   "outputs": [],
   "metadata": {
    "tags": []
   }
  },
  {
   "cell_type": "markdown",
   "source": [
    "### Step 5: Prepare a Function for Inference"
   ],
   "metadata": {}
  },
  {
   "cell_type": "code",
   "execution_count": null,
   "source": [
    "def emotion_recognizer_inference(face_frame: np.ndarray):\n",
    "    prepared_frame = pre_process_input_image(face_frame, target_width=emotion_recognizer_input_width, target_height=emotion_recognizer_input_height)\n",
    "    \n",
    "    # Run the inference how you did it early\n",
    "    inference_results = emotion_recognizer.infer({\n",
    "        emotion_recognizer_input_name: prepared_frame\n",
    "    })\n",
    "    \n",
    "    # For better understanding of model inference result, refer to the documentation \n",
    "    # \n",
    "    return inference_results[emotion_recognizer_output_name]"
   ],
   "outputs": [],
   "metadata": {
    "tags": []
   }
  },
  {
   "cell_type": "markdown",
   "source": [
    "Let's take a closer look at the model. Run single inference of the image."
   ],
   "metadata": {}
  },
  {
   "cell_type": "code",
   "execution_count": null,
   "source": [
    "original_frame = load_input_image('./data/Yarik.jpg')\n",
    "\n",
    "# Infer the model\n",
    "face_detection_inference_results = emotion_recognizer_inference(original_frame)\n",
    "face_detection_inference_results"
   ],
   "outputs": [],
   "metadata": {
    "tags": []
   }
  },
  {
   "cell_type": "markdown",
   "source": [
    "The inference results is a nested list with prediction for emotions:\n",
    "\n",
    "    - neutral\n",
    "    - happy\n",
    "    - sad\n",
    "    - surprised\n",
    "    - angry\n",
    "    \n",
    " Lets process this results for the image:"
   ],
   "metadata": {}
  },
  {
   "cell_type": "code",
   "execution_count": null,
   "source": [
    "# Flat the nesatead list\n",
    "face_detection_inference_result = face_detection_inference_results.flatten()\n",
    "\n",
    "# Define the emotions\n",
    "emotions = ['neutral', 'happy', 'sad', 'surprised', 'angry']\n",
    "\n",
    "show_image(original_frame)\n",
    "\n",
    "print('Inference results:')\n",
    "for index, prediction in enumerate(face_detection_inference_result):\n",
    "    emotion = emotions[index]\n",
    "    print(f'{emotion:10}:\\t{prediction}')"
   ],
   "outputs": [],
   "metadata": {
    "tags": []
   }
  },
  {
   "cell_type": "markdown",
   "source": [
    "### Step 6: Replace the Face with a Corresponding Smile\n",
    "\n",
    "Now we are ready to replace the detected face with a smile that corresponds to the emotion:"
   ],
   "metadata": {}
  },
  {
   "cell_type": "code",
   "execution_count": null,
   "source": [
    "# Load the image\n",
    "original_image = load_input_image(input_image_path)\n",
    "original_image_height, original_image_width, *_ = original_image.shape\n",
    "\n",
    "# Display the input image\n",
    "print(\"Input image:\")\n",
    "show_image(original_image)"
   ],
   "outputs": [],
   "metadata": {}
  },
  {
   "cell_type": "markdown",
   "source": [
    "Prepare the function that returns a coresponding smile."
   ],
   "metadata": {}
  },
  {
   "cell_type": "code",
   "execution_count": null,
   "source": [
    "def get_smile_by_index(emotion_inference_result: np.ndarray) -> np.ndarray:\n",
    "    emotions = ['neutral', 'happy', 'sad', 'surprise', 'anger']\n",
    "    # Get the index of the emotion with the highest probability \n",
    "    emotion_index = np.argmax(emotion_inference_result.flatten()) \n",
    "    smile_path = f'./data/{emotions[emotion_index]}.png'\n",
    "    return cv2.imread(smile_path, -1)"
   ],
   "outputs": [],
   "metadata": {}
  },
  {
   "cell_type": "markdown",
   "source": [
    "For the given inference result, we will get the following smile:"
   ],
   "metadata": {}
  },
  {
   "cell_type": "code",
   "execution_count": null,
   "source": [
    "smile = get_smile_by_index(face_detection_inference_result)\n",
    "show_image(smile)"
   ],
   "outputs": [],
   "metadata": {
    "tags": []
   }
  },
  {
   "cell_type": "markdown",
   "source": [
    "Define the function that puts a smile on top of the face."
   ],
   "metadata": {}
  },
  {
   "cell_type": "code",
   "execution_count": null,
   "source": [
    "def put_smile_on_top_of_face(image: np.ndarray, inference_results: np.ndarray, face_xmin:int, face_ymin:int, face_xmax:int, face_ymax:int):\n",
    "\n",
    "    # Get width and height of the face \n",
    "    width = xmax - xmin\n",
    "    height = ymax - ymin\n",
    "    \n",
    "    # Get smile by inference results\n",
    "    smile = get_smile_by_index(inference_results)\n",
    "    \n",
    "    # Resize the smile to face shape\n",
    "    resized_smile = cv2.resize(smile, (width, height))\n",
    "\n",
    "    # Put the smile on top of the face\n",
    "    alpha_s = resized_smile[:, :, 3] / 255.0\n",
    "    alpha_l = 1.0 - alpha_s\n",
    "    for c in range(0, 3):\n",
    "        image[ymin:ymax, xmin:xmax, c] = (alpha_s * resized_smile[:, :, c] + alpha_l * image[ymin:ymax, xmin:xmax, c])\n"
   ],
   "outputs": [],
   "metadata": {}
  },
  {
   "cell_type": "markdown",
   "source": [
    "Run face detector inference to detect faces on the image."
   ],
   "metadata": {}
  },
  {
   "cell_type": "code",
   "execution_count": null,
   "source": [
    "face_detection_inference_results = face_detector_inference(original_image)\n",
    "\n",
    "# Parse detected faces\n",
    "faces_coordinates = parse_face_detection_results(face_detection_inference_results, original_image_width, original_image_height)"
   ],
   "outputs": [],
   "metadata": {
    "tags": []
   }
  },
  {
   "cell_type": "markdown",
   "source": [
    "Put smiles on top of the detected faces."
   ],
   "metadata": {}
  },
  {
   "cell_type": "code",
   "execution_count": null,
   "source": [
    "# Prepare the result image\n",
    "processed_image = original_image.copy()\n",
    "\n",
    "for face_coordinates in faces_coordinates:\n",
    "    xmin, ymin, xmax, ymax, confidence = face_coordinates\n",
    "    \n",
    "    # Get the face from the image\n",
    "    face = original_image[ymin:ymax, xmin:xmax]\n",
    "\n",
    "    # Run emotion recognizer \n",
    "    emotion_predictions = emotion_recognizer_inference(face)\n",
    "    \n",
    "    # Replace the face with the smile\n",
    "    put_smile_on_top_of_face(processed_image, emotion_predictions, xmin, ymin, xmax, ymax)"
   ],
   "outputs": [],
   "metadata": {
    "jupyter": {
     "source_hidden": true
    },
    "tags": []
   }
  },
  {
   "cell_type": "code",
   "execution_count": null,
   "source": [
    "# Prepare the result image\n",
    "processed_image = original_image.copy()\n",
    "\n",
    "for face_coordinates in faces_coordinates:\n",
    "    xmin, ymin, xmax, ymax, confidence = face_coordinates\n",
    "    \n",
    "    # Get the face from the image\n",
    "    face = # ... \n",
    "\n",
    "    # Run emotion recognizer \n",
    "    emotion_predictions = # ...\n",
    "    \n",
    "    # Replace the face with the smile\n",
    "    put_smile_on_top_of_face(...)"
   ],
   "outputs": [],
   "metadata": {
    "tags": []
   }
  },
  {
   "cell_type": "code",
   "execution_count": null,
   "metadata": {
    "tags": []
   },
   "outputs": [],
   "source": [
    "# Prepare the result image\n",
    "processed_image = original_image.copy()\n",
    "\n",
    "for face_coordinates in faces_coordinates:\n",
    "    xmin, ymin, xmax, ymax, confidence = face_coordinates\n",
    "    \n",
    "    # Get the face from the image\n",
    "    face = # ... \n",
    "\n",
    "    # Run emotion recognizer \n",
    "    emotion_predictions = # ...\n",
    "    \n",
    "    # Replace the face with the smile\n",
    "    put_smile_on_top_of_face(...)"
   ]
  },
  {
   "cell_type": "markdown",
   "source": [
    "Show the result image."
   ],
   "metadata": {}
  },
  {
   "cell_type": "code",
   "execution_count": null,
   "source": [
    "show_image(processed_image)"
   ],
   "outputs": [],
   "metadata": {}
  },
  {
   "cell_type": "markdown",
   "source": [
    "## Task 4: Put Smiles on Top of the Face in the Video <a name=\"#task4\"></a>"
   ],
   "metadata": {}
  },
  {
   "cell_type": "code",
   "execution_count": null,
   "source": [
    "input_video_stream = cv2.VideoCapture(input_video_path)\n",
    "\n",
    "original_video_width = int(input_video_stream.get(3))\n",
    "original_video_height = int(input_video_stream.get(4))"
   ],
   "outputs": [],
   "metadata": {}
  },
  {
   "cell_type": "code",
   "execution_count": null,
   "source": [
    "output_video_stream = prepare_output_video_stream(input_video_stream, output_video_path)"
   ],
   "outputs": [],
   "metadata": {}
  },
  {
   "cell_type": "code",
   "execution_count": null,
   "source": [
    "while input_video_stream.isOpened():\n",
    "    # 1. Read the next frame from the input video \n",
    "    finish, original_frame = input_video_stream.read()\n",
    "    if not finish:\n",
    "        break\n",
    "        \n",
    "    # 2. apply face replacement from previous step\n",
    "    face_detection_inference_results = face_detector_inference(original_frame)\n",
    "    \n",
    "    faces_coordinates = parse_face_detection_results(face_detection_inference_results, original_video_width, original_video_height)\n",
    "\n",
    "    for face_coordinates in faces_coordinates:\n",
    "\n",
    "        xmin, ymin, xmax, ymax, _ = face_coordinates\n",
    "        face = original_frame[ymin:ymax, xmin:xmax]\n",
    "\n",
    "        emotion_predictions = emotion_recognizer_inference(face)\n",
    "\n",
    "        put_smile_on_top_of_face(original_frame, emotion_predictions, xmin, ymin, xmax, ymax)\n",
    "    # 3. Write the resulting frame to the output stream\n",
    "    output_video_stream.write(original_frame)\n",
    "    \n",
    "input_video_stream.release()\n",
    "# Save the resulting video\n",
    "output_video_stream.release()"
   ],
   "outputs": [],
   "metadata": {
    "tags": []
   }
  },
  {
   "cell_type": "code",
   "execution_count": null,
   "source": [
    "while input_video_stream.isOpened():\n",
    "    # 1. Read the next frame from the input video \n",
    "    finish, original_frame = input_video_stream.read()\n",
    "    if not finish:\n",
    "        break\n",
    "    \n",
    "    # 2. Your turn - implement pipeline\n",
    "    \n",
    "    # 3. Write the resulting frame to the output stream\n",
    "    output_video_stream.write(original_frame)\n",
    "    \n",
    "input_video_stream.release()\n",
    "# Save the resulting video\n",
    "output_video_stream.release()"
   ],
   "outputs": [],
   "metadata": {
    "tags": []
   }
  },
  {
   "cell_type": "code",
   "execution_count": null,
   "source": [
    "# Show a source video\n",
    "HTML(f\"\"\"<video width=\"600\" height=\"400\" controls><source src=\"{output_video_path}\" type=\"video/mp4\"></video>\"\"\")"
   ],
   "outputs": [],
   "metadata": {}
  },
  {
   "cell_type": "markdown",
   "source": [
    "# Call to action #1. Try Workbench right now: locally or in Dev Cloud"
   ],
   "metadata": {}
  },
  {
   "cell_type": "markdown",
   "source": [
    "# Call to action #2. Try SberCloud with oneAPI and OpenVINO"
   ],
   "metadata": {}
  },
  {
   "cell_type": "markdown",
   "source": [
    "![](pictures/one_API.jpeg)"
   ],
   "metadata": {}
  },
  {
   "cell_type": "markdown",
   "metadata": {},
   "source": [
    "# Call to action #1. Try Workbench right now: locally or in Dev Cloud"
   ]
  },
  {
   "cell_type": "markdown",
   "metadata": {},
   "source": [
    "# Call to action #2. Try SberCloud with oneAPI and OpenVINO"
   ]
  },
  {
   "cell_type": "markdown",
   "metadata": {},
   "source": [
    "![](pictures/one_API.jpeg)"
   ]
  },
  {
   "cell_type": "code",
   "execution_count": null,
   "source": [],
   "outputs": [],
   "metadata": {}
  }
 ],
 "metadata": {
  "kernelspec": {
   "display_name": "Python 3 (ipykernel)",
   "language": "python",
   "name": "python3"
  },
  "language_info": {
   "codemirror_mode": {
    "name": "ipython",
    "version": 3
   },
   "file_extension": ".py",
   "mimetype": "text/x-python",
   "name": "python",
   "nbconvert_exporter": "python",
   "pygments_lexer": "ipython3",
   "version": "3.8.10"
  },
  "nbTranslate": {
   "displayLangs": [
    "*"
   ],
   "hotkey": "alt-t",
   "langInMainMenu": true,
   "sourceLang": "en",
   "targetLang": "fr",
   "useGoogleTranslate": true
  },
  "toc": {
   "base_numbering": 1,
   "nav_menu": {},
   "number_sections": true,
   "sideBar": true,
   "skip_h1_title": false,
   "title_cell": "Table of Contents",
   "title_sidebar": "Contents",
   "toc_cell": false,
   "toc_position": {},
   "toc_section_display": true,
   "toc_window_display": false
  }
 },
 "nbformat": 4,
 "nbformat_minor": 4
}