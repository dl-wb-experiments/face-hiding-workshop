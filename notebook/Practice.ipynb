{
 "cells": [
  {
   "cell_type": "markdown",
   "source": [
    "# Agenda\r\n",
    "\r\n",
    "## 1. [Introduction](#s1)\r\n",
    "\r\n",
    "## 2. [OpenVINO™ Overview](#s6) - Kashchikhin\r\n",
    "\r\n",
    "## 3. [OpenVINO™ Deep Learning Workbench](#s7) - Kashchikhin\r\n",
    "\r\n",
    "## 4. [OpenVINO(TM) API](#s7) – Tugaryov\r\n",
    "\r\n",
    "Object Detection sample: http://127.0.0.1:5665/jupyter/lab/tree/tutorials/object_detection_ssd/tutorial_object_detection_ssd.ipynb\r\n",
    "W/o downloader and w/updated cells\r\n",
    "\r\n",
    "## 5. [Practice](#s15) – Tugaryov\r\n",
    "\r\n",
    "Task 1: apply pre-defined blur method to given image at inferred coordinates (photo with several faces)\r\n",
    "\r\n",
    "Task 2: add blurring logic to pre-defined video processor\r\n",
    "\r\n",
    "Task 3: replace each face on the photo with a smile with corresponding emotion\r\n",
    "\r\n",
    "Task 4: emotional smile on the video\r\n",
    "\r\n",
    "** Task 5: Telegram Bot - Smiler"
   ],
   "metadata": {}
  },
  {
   "cell_type": "markdown",
   "source": [
    "# Intro\r\n",
    "\r\n",
    "### What You Will Learn\r\n",
    "\r\n",
    "Welcome to the workshop! ... We will use OpenVINO™ framework and its graphical interface Deep Learning Workbench to make your Deep Learning journey easy and exciting. \r\n",
    "\r\n",
    "During this workshop you will:\r\n",
    "\r\n",
    "1. Learn the basics of neural model analysis and optimization:\r\n",
    "    - what a model is and how it works\r\n",
    "    - how to measure its performance and analyze the quality\r\n",
    "    - how to tune the model for enhanced performance\r\n",
    "2. Write your own AI application __________\r\n",
    "\r\n",
    "And good luck from our team: \r\n",
    "\r\n",
    "### Why Deep Learning\r\n",
    "\r\n",
    "Deep Learning is highly popular right now due to significant breakthroughs in the artificial neural networks area, which have encouraged businesses to use deep learning solutions as part of their strategy. From digital assistants and chatbots in customer service to object recognition in retail, and much more, Deep learning has enabled the development of various revolutionary AI applications. With Deep Learning, the algorithm does not need to be taught about the essential features. It can discover features from data on its own using a neural network. The exceptional performance of Deep Learning algorithms with difficult tasks involving massive quantities of data, coupled with the growing availability of pre-trained models, has made Deep Learning very appealing to many companies.\r\n",
    "Example\r\n",
    "\r\n",
    "### What Is Inference \r\n",
    "\r\n",
    "While training is the process of teaching a model to perform a particular AI task, Deep learning inference is the process of using a trained model to make predictions against previously unseen data. A trained model is often modified and simplified before being deployed. Some neural models can be large and complex, with hundreds of layers of artificial neurons and weights connecting them. The larger the model, the more memory and energy is consumed to run it, and the longer will be the response time (or latency) from when you input data to the model until you receive a result.\r\n",
    "\r\n",
    "![](pictures/deep-learning.png)\r\n",
    "\r\n",
    "Author: Mark Robins, Intel, [Link](https://www.intel.ru/content/www/ru/ru/artificial-intelligence/posts/deep-learning-training-and-inference.html)\r\n",
    "\r\n",
    "\r\n",
    "But sometimes the use case requires that inference run very fast or at very low power. For example, a self-driving car must be able to detect and respond within milliseconds in order to avoid an accident.In such cases, there is a desire to simplify the model after training to reduce power and latency, even if this simplification results in a slight reduction in accuracy. There are several ways to optimize a model. Further, we will use optimization method called INT8 calibration, which involves reducing the numerical precision of the weights from, for example, 32-bit floating point numbers down to 8-bit, resulting in a reduced model size and faster computation.\r\n",
    "\r\n",
    "Let's take a look at the inference on the real-life example of vehical detection model. The model running alongside the traffic camera constantly processes a video to detect vehicles entering the intersection. If a vehicle enters when the light is red, multiple images of the vehicle are captured and fed into the model, which finds an image that includes a license plate and transmits it for further processing. At the server, a first inference is run to localize the license plate in the image, and a second inference is run to read the characters on the license plate. Finally, the license plate information is sent to the data center where an application looks up the car’s owner based on the license plate and detects up potential traffic violations to be reviewed.\r\n",
    "\r\n",
    "![](pictures/system.png)\r\n",
    "\r\n",
    "Author: Mark Robins, Intel, [Link](https://www.intel.ru/content/www/ru/ru/artificial-intelligence/posts/deep-learning-training-and-inference.html)"
   ],
   "metadata": {}
  },
  {
   "cell_type": "markdown",
   "source": [
    "# OpenVINO™"
   ],
   "metadata": {}
  },
  {
   "cell_type": "markdown",
   "source": [
    "The OpenVINO™ toolkit is a comprehensive toolkit for optimizing pretrained deep learning models of various use cases to achieve high performance and prepare them for deployment on Intel® platforms. Based on latest generations of artificial neural networks, including Convolutional Neural Networks (CNNs), recurrent and attention-based networks, the toolkit extends computer vision and non-vision workloads across Intel® hardware, maximizing performance. It accelerates applications with high-performance, AI and deep learning inference deployed from edge to cloud."
   ],
   "metadata": {}
  },
  {
   "cell_type": "markdown",
   "source": [
    "## Introducing OpenVINO"
   ],
   "metadata": {}
  },
  {
   "cell_type": "markdown",
   "source": [
    "![](pictures/about_vino.png)"
   ],
   "metadata": {}
  },
  {
   "cell_type": "markdown",
   "source": [
    "## OpenVINO™ Capabilities"
   ],
   "metadata": {}
  },
  {
   "cell_type": "markdown",
   "source": [
    "![](pictures/openvino_toolkit.png)"
   ],
   "metadata": {}
  },
  {
   "cell_type": "markdown",
   "source": [
    "## OpenVINO™ Toolkit"
   ],
   "metadata": {}
  },
  {
   "cell_type": "markdown",
   "source": [
    "![](pictures/additional_tools.png)"
   ],
   "metadata": {}
  },
  {
   "cell_type": "markdown",
   "source": [
    "## OpenVINO™ Deep Learning Models\r\n",
    "\r\n",
    "A model is a network that has been trained over a set of data using a certain framework. Since Deep learning technologies are used in various industrial\r\n",
    "applications, it is crucial to have an effective solution for each specific use case. OpenVINO Open Model Zoo provides a range of public and Intel pre-trained models to resolve a variety of different tasks, such as classification, object detection, segmentation and many others."
   ],
   "metadata": {}
  },
  {
   "cell_type": "markdown",
   "source": [
    "![](pictures/models.png)"
   ],
   "metadata": {}
  },
  {
   "cell_type": "markdown",
   "source": [
    "# Deep Learning Workbench: OpenVINO™ Quickstart"
   ],
   "metadata": {}
  },
  {
   "cell_type": "markdown",
   "source": [
    "Deep Learning Workbench (DL Workbench) is the official OpenVINO™ graphical interface designed to make the production of pretrained deep learning models significantly easier.\r\n",
    "With DL Workbench you can start working with your deep learning model right from your browser: import a model, analyze its performance and accuracy, visualize the outputs, optimize and prepare the model for deployment in a matter of minutes. \r\n"
   ],
   "metadata": {}
  },
  {
   "cell_type": "markdown",
   "source": [
    "![](pictures/openvino_toolkit-dl-wb-highlighted.png)"
   ],
   "metadata": {}
  },
  {
   "cell_type": "markdown",
   "source": [
    "## DL Workbench capabilities"
   ],
   "metadata": {}
  },
  {
   "cell_type": "markdown",
   "source": [
    "![](pictures/openvino_dl_wb.png)"
   ],
   "metadata": {}
  },
  {
   "cell_type": "markdown",
   "source": [
    "## DL Workbench Workflow\r\n"
   ],
   "metadata": {}
  },
  {
   "cell_type": "markdown",
   "source": [
    "## DL WB Workflow"
   ],
   "metadata": {}
  },
  {
   "cell_type": "markdown",
   "source": [
    "### 1. Import a model\r\n",
    "\r\n",
    "The first step is to import a model. You can either select a model from the Open Model Zoo or import your own model. Open Model Zoo contains a list of publicly available models and Intel pre-trained models that solve many use cases, such as classification, object detection, segmentation and many others. Once you decide which model solves your particular use case, select it and start importing. In case you have trained your model yourself or did not find the required model in the Open Model Zoo, you can upload the files and start the import. "
   ],
   "metadata": {}
  },
  {
   "cell_type": "markdown",
   "source": [
    "#### Import Open Model Zoo Model"
   ],
   "metadata": {}
  },
  {
   "cell_type": "markdown",
   "source": [
    "![](pictures/import_model_wb_omz.png)"
   ],
   "metadata": {}
  },
  {
   "cell_type": "markdown",
   "source": [
    "#### Upload Your Custom Model"
   ],
   "metadata": {}
  },
  {
   "cell_type": "markdown",
   "source": [
    "![](pictures/upload-local-model.png)"
   ],
   "metadata": {}
  },
  {
   "cell_type": "markdown",
   "source": [
    "### 2. Import Dataset\r\n",
    "\r\n",
    "Then, we proceed by importing the dataset. Importing the validation dataset means that you need to upload the dataset of supported format suitable for your use case. The dataset can be either annotated or not annotated. \r\n",
    "\r\n",
    "We have created a custom dataset which you can use during this workshop.\r\n",
    "\r\n",
    "**TODO**: insert link.\r\n",
    "\r\n",
    "1. Execute the following cell to download an archive with images."
   ],
   "metadata": {}
  },
  {
   "cell_type": "code",
   "execution_count": null,
   "source": [
    "!wget -O dataset.zip LINK_TO_DATASET"
   ],
   "outputs": [],
   "metadata": {}
  },
  {
   "cell_type": "markdown",
   "source": [
    "2. You will see a `dataset.zip` on the left in the file tree;\r\n",
    "\r\n",
    "3. Download it on your machine (right-click + `Download`);\r\n",
    "4. Unarchive it;\r\n",
    "5. Go to DL Workbench;"
   ],
   "metadata": {}
  },
  {
   "cell_type": "markdown",
   "source": [
    "![](pictures/validation_dataset_import.png)"
   ],
   "metadata": {}
  },
  {
   "cell_type": "markdown",
   "source": [
    "6. Drag & drop the images from the archive to create a not annotated dataset.\r\n",
    "\r\n",
    "![](pictures/custom_dataset.png)"
   ],
   "metadata": {}
  },
  {
   "cell_type": "markdown",
   "source": [
    "### 3. Run Inference\r\n",
    "\r\n",
    "Let’s create our first project that will be based on our model with the custom datasets. For that, our final step is to select the environment. Target is a machine that hosts one or several accelerators. Device is a hardware accelerator on which a model is executed. By default, your Local Target is selected. Once we create the project, the first baseline inference happens. During the baseline inference our model is evaluated from the performance perspective. "
   ],
   "metadata": {}
  },
  {
   "cell_type": "markdown",
   "source": [
    "![](pictures/create_project_selected.png)"
   ],
   "metadata": {}
  },
  {
   "cell_type": "markdown",
   "source": [
    "![](pictures/dashboard-page.png)"
   ],
   "metadata": {}
  },
  {
   "cell_type": "markdown",
   "source": [
    "### 4. Analyze the Model\r\n",
    "\r\n",
    "When the inference stage is finished, we can see that our model can process the following number of frames per second with the corresponding latency. Latency is the time required to process one image. The lower the value, the better. Throughput is the number of images (feames) processed per second. Higher throughput value means better performance. Since our model is fully floating-point, we might benefit if we try to execute it in the integer precision. Let's check how our model works and proceed to optimize it. "
   ],
   "metadata": {}
  },
  {
   "cell_type": "markdown",
   "source": [
    "#### Performance"
   ],
   "metadata": {}
  },
  {
   "cell_type": "markdown",
   "source": [
    "![](pictures/analyze.png)"
   ],
   "metadata": {}
  },
  {
   "cell_type": "markdown",
   "source": [
    "#### Vizualize Predictions\r\n",
    "\r\n",
    "DL Workbench enables you to visually estimate how well a model recognizes images by testing the model on particular sample images. This considerably enhances the analysis of inference results, giving you an opportunity not only to estimate the performance, but also to visually understand whether the model works correctly and the accuracy is tolerable for client applications.\r\n",
    "\r\n"
   ],
   "metadata": {}
  },
  {
   "cell_type": "markdown",
   "source": [
    "![](pictures/predictions.png)"
   ],
   "metadata": {}
  },
  {
   "cell_type": "markdown",
   "source": [
    "### 5. Optimize the Model"
   ],
   "metadata": {}
  },
  {
   "cell_type": "markdown",
   "source": [
    "#### INT8 Calibration\r\n",
    "One of the recommended ways to accelerate your model performance is to perform 8-bit integer (INT8) calibration.\r\n",
    "A model in INT8 precision takes up less memory and has higher throughput capacity.\r\n",
    "Often this performance boost is achieved at the cost of a small accuracy reduction. "
   ],
   "metadata": {}
  },
  {
   "cell_type": "markdown",
   "source": [
    "![](pictures/calibration-int8.png)"
   ],
   "metadata": {}
  },
  {
   "cell_type": "markdown",
   "source": [
    "#### Analyze the Improvements\r\n"
   ],
   "metadata": {}
  },
  {
   "cell_type": "markdown",
   "source": [
    "![](pictures/dashboard-parent-vs-optimized.png)"
   ],
   "metadata": {}
  },
  {
   "cell_type": "markdown",
   "source": [
    "### 6. Profile the Model\r\n",
    "\r\n",
    "The inference of a network is the execution of a computational graph consisting of different operations. Internally, the execution resources are split/pinned into execution streams. \r\n",
    "\r\n",
    "Streams – number of requests running in parallel. Available cores are evenly distributed between the streams. \r\n",
    "\r\n",
    "The neural model can be organized in such a way that the number of input data can vary, which allows to simultaneously process a batch of input data in one pass through the neural network. This can significantly improve the performance.\r\n",
    "\r\n",
    "Batch – number of images propagated to the network at a time.\r\n",
    "During execution of a model, streams, as well as inference requests in a stream, can be distributed inefficiently among cores of hardware, which can reduce model speed. Some target and topology combinations work best with increased batch size and some with multiple parallel inference streams, while some suffer from those options. Predicting performance is extremely complicated; we recommend to try different batch and stream combinations to boost the performance."
   ],
   "metadata": {}
  },
  {
   "cell_type": "markdown",
   "source": [
    "![](pictures/group_inference.png)"
   ],
   "metadata": {}
  },
  {
   "cell_type": "markdown",
   "source": [
    "![](pictures/group_inference_results_01.png)"
   ],
   "metadata": {}
  },
  {
   "cell_type": "markdown",
   "source": [
    "Let’s recap briefly what you have learned at this stage:\r\n",
    "\r\n",
    "1. What a model is and how it works\r\n",
    "2. How to measure its perdormance\r\n",
    "3. How to accelerate the model using INT8 calibration\r\n",
    "4. How different options affect model performance \r\n",
    "\r\n",
    "Our next step is to apply this knowledge to build the ____ application. Before we proceed, we should determine our model location. For that, go to the Learn OpenVINO tab, select Model Inference with OpenVINO API and copy the model path."
   ],
   "metadata": {}
  },
  {
   "cell_type": "markdown",
   "source": [
    "## App - Face Replacer\n",
    "Face detection, Emotion recognition"
   ],
   "metadata": {}
  },
  {
   "cell_type": "markdown",
   "source": [
    "#### (INSERT) Picture before - picture after"
   ],
   "metadata": {}
  },
  {
   "cell_type": "markdown",
   "source": [
    "### Plan\n",
    "#### Part 0 - Obtain a model\n",
    "0. Go to DL WB\n",
    "1. Find a suitable face-detection model \n",
    "2. Experiment with it, optimize, assess results\n",
    "3. Export\\download the model\n",
    "\n",
    "#### Part 1 - OpenVINO Python API + minimal app\n",
    "\n",
    "Show tutorial_object_detection for OV Python API\n",
    "\n",
    "4. Prerequisites\n",
    "    * copy the model path from DL WB\n",
    "    * sample data (video) is placed in the folder with this notebook\n",
    "5. OpenVINO Python API for work with neural networks\n",
    "6. Image/video pre-processing with OpenCV\n",
    "7. Neural network execution - Inference\n",
    "8. Results processing\n",
    "    * Describe the model and its output so that it is understandable how to post-process\n",
    "9. Have a video with faces replaced\n",
    "\n",
    "#### Part 2 - Enriching/Building upon the app / Adding new functionality\n",
    "\n",
    "9. Prepare another neural network\n",
    "10. Integrate new network in the app\n",
    "\n",
    "OR - give a choice of either following the presenter with deployment of continuing with the emotion recognition\n",
    "\n",
    "#### Part 3 - Deploy the app\n",
    "11. Prepare deployment package\\bundle with model and download it\n",
    "    * Ubuntu - go to DL WB\n",
    "    * non-Ubuntu - supply with os-specific bundles\n",
    "12. Prepare platform\n",
    "    * Copy/download the necessary assets (OpenVINO deployment package, model)\n",
    "    * Prepare environment using setupvars\n",
    "13. Prepare sample\\application and a Telegram bot\n",
    "    * Clone the repository with the template\n",
    "    * Copy your code from the notebook and integrate in the template\n",
    "13. Deploy\n",
    "14. Enjoy\n",
    "\n",
    "\n",
    "#### Demo of the completed bot\\application in case of the out of time"
   ],
   "metadata": {}
  },
  {
   "cell_type": "markdown",
   "source": [
    "# OpenVINO™ API"
   ],
   "metadata": {}
  },
  {
   "cell_type": "markdown",
   "source": [
    "The purpose of this tutorial is to examine a sample application that was created using the [Intel® Distribution of Open Visual Inference & Neural Network Optimization (OpenVINO™) toolkit](https://software.intel.com/openvino-toolkit). This tutorial will go step-by-step through the necessary steps to demonstrate object detection on images. Object detection is performed using a pre-trained network and running it using the Intel® Distribution of OpenVINO™ toolkit Inference Engine.\n",
    "\n",
    "Object Detection in Computer Vision is a task of finding objects and locating them in the image.\n",
    "\n",
    "The tutorial guides you through the following steps:\n",
    "\n",
    "1. [Import required modules](#1.-Import-Required-Modules) \n",
    "3. [Configure inference: path to a model and other data](#3.-Configure-an-Inference)\n",
    "4. [Initialize the OpenVINO™ runtime](#4.-Initialize-the-OpenVINO™-Runtime)\n",
    "5. [Read the model](#5.-Read-the-Model)\n",
    "6. [Make the model executable](#6.-Make-the-Model-Executable)\n",
    "7. [Prepare an image for model inference](#7.-Prepare-an-Image-for-Model-Inference)\n",
    "8. [Infer the model](#8.-Infer-the-Model)\n",
    "9. [Show predictions](#9.-Show-Predictions)"
   ],
   "metadata": {}
  },
  {
   "cell_type": "markdown",
   "source": [
    "### 1. Import Required Modules\n",
    "\n",
    "Import the Python* modules that you will use in the sample code:\n",
    "- [pathlib](https://docs.python.org/3/library/os.html#module-os) is a standard Python module used for filename parsing.\n",
    "- [cv2](https://docs.opencv.org/trunk/) is an OpenCV module used to work with images.\n",
    "- [NumPy](http://www.numpy.org/) is an array manipulation module used to process images as arrays.\n",
    "- [OpenVINO Inference Engine](https://docs.openvinotoolkit.org/latest/openvino_docs_IE_DG_Deep_Learning_Inference_Engine_DevGuide.html) is an OpenVINO™ Python API module used for inference.\n",
    "- [IPython](https://ipython.readthedocs.io/en/stable/index.html) is an IPython API uused for showing images and videos in the notebook\n",
    "\n",
    "Run the cell below to import the modules. "
   ],
   "metadata": {}
  },
  {
   "cell_type": "code",
   "execution_count": null,
   "source": [
    "import os\r\n",
    "import cv2\r\n",
    "import numpy as np\r\n",
    "from openvino.inference_engine import IECore\r\n",
    "from IPython.display import HTML, Image, display"
   ],
   "outputs": [],
   "metadata": {}
  },
  {
   "cell_type": "markdown",
   "source": [
    "### 3. Configure an Inference\n",
    "\n",
    "Once you have the OpenVINO™ IR of your model, you can start experimenting with it by inferring it and inspecting its output. \n",
    "\n",
    "> **NOTE**: Copy the paths to the `.xml` and `.bin` files from the DL Workbench UI and paste them below.\n",
    "#### Required parameters\n",
    "\n",
    "Parameter| Explanation\n",
    "---|---\n",
    "**model_xml**| Path to the `.xml` file of OpenVINO™ IR of your model\n",
    "**model_bin**| Path to the `.bin` file of OpenVINO™ IR of your model"
   ],
   "metadata": {}
  },
  {
   "cell_type": "code",
   "execution_count": null,
   "source": [
    "# Model IR files\r\n",
    "face_detection_model_xml = 'data/models/face-detection-adas-0001.xml'\r\n",
    "face_detection_model_bin = 'data/models/face-detection-adas-0001.bin'"
   ],
   "outputs": [],
   "metadata": {}
  },
  {
   "cell_type": "markdown",
   "source": [
    "#### Optional Parameters\n",
    "\n",
    "Experiment with optional parameters after you go the full workflow of the tutorial.\n",
    "\n",
    "Parameter| Explanation\n",
    "---|---\n",
    "**input_image_path**| Path to an input image. Use the `car.bmp` image placed in the directory of the notebook or, if you have imported a dataset in the DL Workbench, copy the path to an image in the dataset.\n",
    "**device**| Specify the [target device](https://docs.openvinotoolkit.org/latest/workbench_docs_Workbench_DG_Select_Environment.html) to infer on: CPU, GPU, or MYRIAD. Note that the device must be present. For this tutorial, use `CPU` which is known to be present.\n",
    "**prob_threshold**| Probability threshold to filter detection results"
   ],
   "metadata": {}
  },
  {
   "cell_type": "code",
   "execution_count": null,
   "source": [
    "# Input image file. \r\n",
    "input_image_path = 'data/input_image.JPG'\r\n",
    "\r\n",
    "# Input video file\r\n",
    "input_video_path = 'data/input.mp4'\r\n",
    "\r\n",
    "# Output video file\r\n",
    "output_video_path = 'data/output.mp4'\r\n",
    "\r\n",
    "# Device to use\r\n",
    "device = 'CPU'\r\n",
    "\r\n",
    "# Minimum percentage threshold to detect an object\r\n",
    "prob_threshold = 50\r\n",
    "\r\n",
    "print(\r\n",
    "f'''Configuration parameters settings:\r\n",
    "    model_xml={face_detection_model_xml},\r\n",
    "    model_bin={face_detection_model_bin},\r\n",
    "    input_image_path={input_image_path},\r\n",
    "    device={device}, \r\n",
    "    prob_threshold={prob_threshold}''',\r\n",
    ")"
   ],
   "outputs": [],
   "metadata": {}
  },
  {
   "cell_type": "markdown",
   "source": [
    "### 4. Initialize the OpenVINO™ Runtime\n",
    "\n",
    "Once you define the parameters, let's initiate the `IECore` object that accesses OpenVINO™ runtime capabilities."
   ],
   "metadata": {}
  },
  {
   "cell_type": "code",
   "execution_count": null,
   "source": [
    "# Create an Inference Engine instance\r\n",
    "ie_core = IECore()"
   ],
   "outputs": [],
   "metadata": {}
  },
  {
   "cell_type": "markdown",
   "source": [
    "### 5. Read the Model\n",
    "\n",
    "Put the IR of your model in the memory."
   ],
   "metadata": {}
  },
  {
   "cell_type": "code",
   "execution_count": null,
   "source": [
    "# Read the network from IR files\r\n",
    "face_detection_network = ie_core.read_network(model=face_detection_model_xml, weights=face_detection_model_bin)"
   ],
   "outputs": [],
   "metadata": {}
  },
  {
   "cell_type": "markdown",
   "source": [
    "### 6. Make the Model Executable\n",
    "\n",
    "Reading a network is not enough to start a model inference. The model must be loaded to a particular abstraction representing a particular accelerator. In OpenVINO™, this abstraction is called *plugin*. A network loaded to a plugin becomes executable and will be inferred in one of the next steps. \n",
    "\n",
    "After loading, we keep necessary model information such as names of input and output blobs: `input_blob` and `output_blob`. Let's remember the input dimensions of your model:\n",
    "- `n` - input batch size\n",
    "- `c` - number of input channels. Often, it is `1` or `3`, which means that the model expects either a grayscale or a color image.\n",
    "- `h` - input image height\n",
    "- `w` - input image width"
   ],
   "metadata": {}
  },
  {
   "cell_type": "code",
   "execution_count": null,
   "source": [
    "face_detection_executable_network = ie_core.load_network(network=face_detection_network, device_name=device)\r\n",
    "\r\n",
    "# Store names of input and output blobs\r\n",
    "face_detection_input_blob = next(iter(face_detection_network.input_info))\r\n",
    "face_detection_output_blob = next(iter(face_detection_network.outputs))\r\n",
    "\r\n",
    "# Read the input dimensions: n=batch size, c=number of channels, h=height, w=width\r\n",
    "face_detection_n, face_detection_c, face_detection_h, face_detection_w = face_detection_network.input_info[face_detection_input_blob].input_data.shape\r\n",
    "print(f'Loaded the model into the Inference Engine for the {device} device.'), \r\n",
    "print(f'Face Detection model input dimensions: n={face_detection_n}, c={face_detection_c}, h={face_detection_h}, w={face_detection_w}')"
   ],
   "outputs": [],
   "metadata": {}
  },
  {
   "cell_type": "markdown",
   "source": [
    "### 7. Prepare an Image for Model Inference\n",
    "\n",
    "Now let's read and prepare the input image by resizing and re-arranging its dimensions according to the input dimensions of the model."
   ],
   "metadata": {}
  },
  {
   "cell_type": "code",
   "execution_count": null,
   "source": [
    "# Define the function to load the input image\r\n",
    "def load_input_image(input_path):   \r\n",
    "    # Use OpenCV to load the input image\r\n",
    "    image = cv2.imread(input_path)\r\n",
    "    return image\r\n",
    "\r\n",
    "# Define the function to pre-process the input image\r\n",
    "def pre_process_input_image(image, n, c, h, w):\r\n",
    "    # Resize the image dimensions from image to model input w x h\r\n",
    "    in_frame = cv2.resize(image, (w, h))\r\n",
    "    # Change data layout from HWC to CHW\r\n",
    "    in_frame = in_frame.transpose((2, 0, 1))  \r\n",
    "    # Reshape to input dimensions\r\n",
    "    in_frame = in_frame.reshape((n, c, h, w))\r\n",
    "    return in_frame\r\n",
    "\r\n",
    "def show_images(image: np.ndarray):\r\n",
    "    _, data = cv2.imencode('.jpg', image) \r\n",
    "    image = Image(data=data)\r\n",
    "    display(image)\r\n",
    "\r\n",
    "# Use OpenCV to load the input image\r\n",
    "original_image = cv2.imread(input_image_path)\r\n",
    "original_image_h, original_image_w, *_ = original_image.shape\r\n",
    "\r\n",
    "# Resize the input image\r\n",
    "input_frame = pre_process_input_image(original_image, face_detection_n, face_detection_c, face_detection_h, face_detection_w)\r\n",
    "\r\n",
    "# Display the input image\r\n",
    "show_images(original_image)"
   ],
   "outputs": [],
   "metadata": {}
  },
  {
   "cell_type": "code",
   "execution_count": null,
   "source": [
    "face_detection_inference_results = face_detection_executable_network.infer(\r\n",
    "    inputs={\r\n",
    "        face_detection_input_blob: input_frame\r\n",
    "    }\r\n",
    ")   "
   ],
   "outputs": [],
   "metadata": {}
  },
  {
   "cell_type": "markdown",
   "source": [
    "### 9. Show Predictions\n",
    "\n",
    "The next step is to parse the inference results and draw boxes over the objects detected in the image.\n",
    "\n",
    "A result of model inference (`res`) is an array of predictions. Each prediction `obj` has a following structure:\n",
    "\n",
    "- `obj[1]`: class ID, or the type of a detected object\n",
    "- `obj[2]`: Confidence level that currently detected object is an instance of the predicted class\n",
    "- `obj[3]`: lower x coordinate of the detected object \n",
    "- `obj[4]`: lower y coordinate of the detected object\n",
    "- `obj[5]`: upper x coordinate of the detected object\n",
    "- `obj[6]`: upper y coordinate of the detected object\n",
    "\n",
    "For each detected object, the output from the model will include an integer to indicate which type of the object, such as car or human, has been detected. To translate the integer into a more readable text string, use a label mapping file. The label mapping file is a text file of the format `n: string` (for example, `7: car`) that is loaded into a lookup table to be used later when labeling detected objects.\n",
    "\n",
    "Now we have an image where every detected object is bounded with a box with class id and confidence level. To replace class ids with their names, you need a label mapping file. You can find the sample label mapping file in the current directory with the name `labels.txt`."
   ],
   "metadata": {}
  },
  {
   "cell_type": "code",
   "execution_count": null,
   "source": [
    "# Function to process inference results\r\n",
    "def process_face_detection_results(original_image, results):\r\n",
    "    processed_image = original_image\r\n",
    "    # Get output results\r\n",
    "    result = results[face_detection_output_blob]\r\n",
    "    color = (12.5, 255, 255)\r\n",
    "    original_input_h, original_input_w, *_ = original_image.shape\r\n",
    "    \r\n",
    "        \r\n",
    "    # Loop through all possible results\r\n",
    "    for face in result[0][0]:\r\n",
    "        probability = round(face[2] * 100, 1)\r\n",
    "        \r\n",
    "        # If probability is more than the specified threshold, draw and label the box \r\n",
    "        if probability > prob_threshold:\r\n",
    "            # Get coordinates of the box containing the detected object\r\n",
    "            xmin = int(face[3] * original_input_w)\r\n",
    "            ymin = int(face[4] * original_input_h)\r\n",
    "            xmax = int(face[5] * original_input_w)\r\n",
    "            ymax = int(face[6] * original_input_h)\r\n",
    "\r\n",
    "            # Draw the box and label for the detected object\r\n",
    "            cv2.rectangle(processed_image, (xmin, ymin), (xmax, ymax), color, 4)\r\n",
    "            cv2.putText(processed_image, f'{probability} %', (xmin, ymin - 7), cv2.FONT_HERSHEY_COMPLEX, 1, color, 2)\r\n",
    "    return processed_image\r\n",
    "\r\n",
    "processed_image = process_face_detection_results(original_image, face_detection_inference_results)\r\n",
    "\r\n",
    "show_images(processed_image)"
   ],
   "outputs": [],
   "metadata": {}
  },
  {
   "cell_type": "markdown",
   "source": [
    "# Practice"
   ],
   "metadata": {}
  },
  {
   "cell_type": "markdown",
   "source": [
    "## Task 1: apply pre-defined blur method to given image at inferred coordinates"
   ],
   "metadata": {}
  },
  {
   "cell_type": "code",
   "execution_count": null,
   "source": [
    "def blur_region(image: np.ndarray) -> np.ndarray:\r\n",
    "    height, width = image.shape[:2]\r\n",
    "    pixels_count = 16\r\n",
    "    temp = cv2.resize(image, (pixels_count, pixels_count), interpolation=cv2.INTER_LINEAR)\r\n",
    "    return cv2.resize(temp, (width, height), interpolation=cv2.INTER_NEAREST)"
   ],
   "outputs": [],
   "metadata": {}
  },
  {
   "cell_type": "code",
   "execution_count": null,
   "source": [
    "def blur_postprocessing(face_detection_inference_result):\r\n",
    "    pass\r\n",
    "    for detected_face in face_detection_inference_result[0][0]:\r\n",
    "        confidence = round(detected_face[2] * 100, 1)\r\n",
    "\r\n",
    "        # If confidence is more than the specified threshold, draw and label the box \r\n",
    "        if confidence > prob_threshold:\r\n",
    "\r\n",
    "            # Get coordinates of the box containing the detected object\r\n",
    "            xmin = int(detected_face[3] * input_w)\r\n",
    "            ymin = int(detected_face[4] * input_h)\r\n",
    "            xmax = int(detected_face[5] * input_w)\r\n",
    "            ymax = int(detected_face[6] * input_h)\r\n",
    "\r\n",
    "            face = original_image[ymin:ymax, xmin:xmax]\r\n",
    "            processed_image[ymin:ymax, xmin:xmax] = blur_region(face)\r\n",
    "    return processed_image"
   ],
   "outputs": [],
   "metadata": {}
  },
  {
   "cell_type": "code",
   "execution_count": null,
   "source": [
    "\r\n",
    "\r\n",
    "original_input_h, original_input_w, *_ = processed_image.shape\r\n",
    "\r\n",
    "processed_image = original_image\r\n",
    "\r\n",
    "face_detection_inference_result = face_detection_inference_results[face_detection_output_blob]\r\n",
    "\r\n",
    "\r\n",
    "\r\n",
    "# 1. Prepare frame for inference. Image should precisely match input shape of the model\r\n",
    "in_frame = pre_process_input_image(original_frame, target_height=face_detector_input_height, target_width=face_detector_input_wight)\r\n",
    "\r\n",
    "# 2. Infer the model\r\n",
    "face_detection_inference_results = face_detection_executable_network.infer(inputs={face_detection_input_blob: in_frame})  \r\n",
    "inference_result = face_detection_inference_results[face_detection_output_blob]\r\n",
    "\r\n",
    "# 3. Blur faces on image\r\n",
    "processed_image = blur_postprocessing(original_frame)\r\n",
    "\r\n",
    "show_images(processed_image)"
   ],
   "outputs": [],
   "metadata": {
    "tags": []
   }
  },
  {
   "cell_type": "markdown",
   "source": [
    "## Task 2: add blurring logic to pre-defined video processor"
   ],
   "metadata": {}
  },
  {
   "cell_type": "code",
   "execution_count": null,
   "source": [
    "input_video_stream = cv2.VideoCapture(input_video_path)\r\n",
    "\r\n",
    "input_frame_width = int(input_video_stream.get(3))   # float `width`\r\n",
    "input_frame_height = int(input_video_stream.get(4))  # float `height`"
   ],
   "outputs": [],
   "metadata": {}
  },
  {
   "cell_type": "code",
   "execution_count": null,
   "source": [
    "def prapare_out_video_stream(input_video_stream: cv2.VideoCapture, output_video_file_path: str) -> cv2.VideoWriter:\r\n",
    "    width  = int(input_video_stream.get(3))\r\n",
    "    height = int(input_video_stream.get(4))\r\n",
    "    video_writer = cv2.VideoWriter(output_video_file_path, cv2.VideoWriter_fourcc(*'avc1'), 20, (width, height))\r\n",
    "    return video_writer\r\n",
    "\r\n",
    "output_video_stream = prapare_out_video_stream(input_video_stream, output_video_path)"
   ],
   "outputs": [],
   "metadata": {}
  },
  {
   "cell_type": "code",
   "execution_count": null,
   "source": [
    "while input_video_stream.isOpened():\r\n",
    "    # 1. Read the next frame from the input video \r\n",
    "    finish, original_frame = input_video_stream.read()\r\n",
    "    if not finish:\r\n",
    "        break\r\n",
    "        \r\n",
    "    # 2. apply blurring from previous step\r\n",
    "    \r\n",
    "    # 3. Write the resulting frame to the output stream\r\n",
    "    output_video_stream.write(original_frame)\r\n",
    "    \r\n",
    "input_video_stream.release()\r\n",
    "# Save the resulting video\r\n",
    "output_video_stream.release()"
   ],
   "outputs": [],
   "metadata": {}
  },
  {
   "cell_type": "code",
   "execution_count": null,
   "source": [
    "# Show a source video\r\n",
    "HTML(f\"\"\"<video width=\"600\" height=\"400\" controls><source src=\"{output_video_path}\" type=\"video/mp4\"></video>\"\"\")"
   ],
   "outputs": [],
   "metadata": {}
  },
  {
   "cell_type": "markdown",
   "source": [
    "## Task 3: replace each face on the photo with a smile with corresponding emotion"
   ],
   "metadata": {}
  },
  {
   "cell_type": "markdown",
   "source": [
    "What is the next step? Often from neural networks build pipelines. It is to use the results of the first neural network as an input for the next neural network. \n",
    "Let's try to build a pipeline from two networks:  first is finds a person on the video and the next to recognize the emotions of this person\n",
    "\n",
    "We have already run the first network. And find the person on the video.\n",
    "The next step is to find a network for emotion recognition.\n",
    "There is a good neural network in the [OpenModelZOO](https://docs.openvinotoolkit.org/latest/omz_models_group_intel.html) - [emotions-recognition-retail-0003 network](https://docs.openvinotoolkit.org/latest/omz_models_model_emotions_recognition_retail_0003.html)\n"
   ],
   "metadata": {}
  },
  {
   "cell_type": "markdown",
   "source": [
    "### Step 1: Download emotions-recognition-retail-0003 network\n",
    "Run the Model Downloader eith needed arguments to download the emotions-recognition-retail-0003 network:"
   ],
   "metadata": {}
  },
  {
   "cell_type": "code",
   "execution_count": null,
   "source": [
    "!python3 ~/intel/openvino_2021/deployment_tools/open_model_zoo/tools/downloader/downloader.py --name emotions-recognition-retail-0003 --precision FP16 --output_dir data/model\r\n",
    "!mv data/model/intel/emotions-recognition-retail-0003/FP16/emotions-recognition-retail-0003.* data/models/"
   ],
   "outputs": [],
   "metadata": {}
  },
  {
   "cell_type": "code",
   "execution_count": null,
   "source": [
    "# Model IR files\r\n",
    "emotion_recognition_model_xml = 'data/models/emotions-recognition-retail-0003.xml'\r\n",
    "emotion_recognition_model_bin = 'data/models/emotions-recognition-retail-0003.bin'"
   ],
   "outputs": [],
   "metadata": {}
  },
  {
   "cell_type": "code",
   "execution_count": null,
   "source": [
    "# call ie_core.read_network to read the OpenVINO IR model\r\n",
    "emotion_recognition_network = ie_core.read_network(emotion_recognition_model_xml, emotion_recognition_model_bin)"
   ],
   "outputs": [],
   "metadata": {}
  },
  {
   "cell_type": "markdown",
   "source": [
    "### Step 3: Load the network to a device\n",
    "\n",
    "Use the instance of `IECore`.\n",
    "The class `IECore` has a special function called `load_network`, which loads a network to a device.\n",
    "This function prepares the network for the first inference on the device \n",
    "and returns an instance of the network prepared for an inference (execution). \n",
    "This function has many parameters, but in this case, you need to know only about two of them:\n",
    "* `network` - instance of `IENetwork`\n",
    "* `device_name` - string, contains a device name to infer a model on: CPU, GPU and so on."
   ],
   "metadata": {}
  },
  {
   "cell_type": "code",
   "execution_count": null,
   "source": [
    "emotion_recognition_network_loaded_on_device = ie_core.load_network(emotion_recognition_network, device)"
   ],
   "outputs": [],
   "metadata": {}
  },
  {
   "cell_type": "markdown",
   "source": [
    "### Step 4: Open the input video"
   ],
   "metadata": {}
  },
  {
   "cell_type": "code",
   "execution_count": null,
   "source": [
    "input_video_stream = cv2.VideoCapture(input_video_path)\r\n",
    "\r\n",
    "input_frame_width = int(input_video_stream.get(3))   # float `width`\r\n",
    "input_frame_height = int(input_video_stream.get(4))  # float `height`"
   ],
   "outputs": [],
   "metadata": {}
  },
  {
   "cell_type": "markdown",
   "source": [
    "### Step 5: Create an output video stream"
   ],
   "metadata": {}
  },
  {
   "cell_type": "code",
   "execution_count": null,
   "source": [
    "output_video_stream = prapare_out_video_stream(input_video_stream, output_video_path)"
   ],
   "outputs": [],
   "metadata": {}
  },
  {
   "cell_type": "code",
   "execution_count": null,
   "source": [
    "emotion_recognition_input_layer = next(iter(emotion_recognition_network.input_info))\r\n",
    "emotion_recognition_input_blob = emotion_recognition_network.input_info[emotion_recognition_input_layer].input_data\r\n",
    "\r\n",
    "print(f'Input layer of the emotions-recognition-retail-0003 is {emotion_recognition_input_layer}')"
   ],
   "outputs": [],
   "metadata": {}
  },
  {
   "cell_type": "code",
   "execution_count": null,
   "source": [
    "emotion_recognition_n, emotion_recognition_c, emotion_recognition_h, emotion_recognition_w = emotion_recognition_input_blob.shape\r\n",
    "\r\n",
    "print(f'Input shape of the emotion recognition network is n = {emotion_recognition_n}, c={emotion_recognition_c}, h={emotion_recognition_h}, w={emotion_recognition_w}')"
   ],
   "outputs": [],
   "metadata": {}
  },
  {
   "cell_type": "code",
   "execution_count": null,
   "source": [
    "emotion_recognition_output_layer = next(iter(emotion_recognition_network.outputs))"
   ],
   "outputs": [],
   "metadata": {}
  },
  {
   "cell_type": "markdown",
   "source": [
    "### Step 6: Prepare a frame and run inference"
   ],
   "metadata": {}
  },
  {
   "cell_type": "code",
   "execution_count": null,
   "source": [
    "def emotion_recognition_inference (face_frame: np.ndarray):\r\n",
    "    prepared_frame = pre_process_input_image(face_frame, emotion_recognition_n, emotion_recognition_c, emotion_recognition_h, emotion_recognition_w)\r\n",
    "    \r\n",
    "    # Run the inference how you did it early\r\n",
    "    inference_results = emotion_recognition_network_loaded_on_device.infer({\r\n",
    "        emotion_recognition_input_layer: prepared_frame\r\n",
    "    })\r\n",
    "    \r\n",
    "    # For understanding what is the result of inference this model, check documentation \r\n",
    "    # https://docs.openvinotoolkit.org/latest/_models_intel_emotions_recognition_retail_0003_description_emotions_recognition_retail_0003.html\r\n",
    "    return inference_results[emotion_recognition_output_layer]\r\n",
    "\r\n",
    "print(f'sad: 0.4')\r\n",
    "print(f'neutral: 0.2')\r\n",
    "print(f'happy: 0.1')"
   ],
   "outputs": [],
   "metadata": {}
  },
  {
   "cell_type": "markdown",
   "source": [
    "### Step 16: Drow boxes and emotions in a frame"
   ],
   "metadata": {}
  },
  {
   "cell_type": "code",
   "execution_count": null,
   "source": [
    "def get_smile_by_index(emotion_inference_result: np.ndarray) -> np.ndarray:\r\n",
    "    emotions = ['neutral', 'happy', 'sad', 'surprise', 'anger']\r\n",
    "    emotion_index = np.argmax(emotion_inference_result.flatten()) \r\n",
    "    smile_path = f'./data/{emotions[emotion_index]}.png'\r\n",
    "    return cv2.imread(smile_path, -1)"
   ],
   "outputs": [],
   "metadata": {}
  },
  {
   "cell_type": "code",
   "execution_count": null,
   "source": [
    "# Load the image\r\n",
    "original_image = load_input_image(input_image_path)\r\n",
    "original_image_h, original_image_w, *_ = original_image.shape\r\n",
    "\r\n",
    "# Resize the input image\r\n",
    "in_frame = pre_process_input_image(original_image, face_detection_n, face_detection_c, face_detection_h, face_detection_w)\r\n",
    "\r\n",
    "# Display the input image\r\n",
    "print(\"Input image:\")\r\n",
    "show_images(original_image)"
   ],
   "outputs": [],
   "metadata": {}
  },
  {
   "cell_type": "code",
   "execution_count": null,
   "source": [
    "def emotion_recognition_inference_postprocess(image, recognized_emotions, xmin, xmax, ymin, ymax):\r\n",
    "    # Put the title to a frame\r\n",
    "    w = xmax - xmin\r\n",
    "    h = ymax - ymin\r\n",
    "    \r\n",
    "    smile = get_smile_by_index(recognized_emotions)\r\n",
    "    resized_smile = cv2.resize(smile, (w, h))\r\n",
    "    \r\n",
    "    alpha_s = resized_smile[:, :, 3] / 255.0\r\n",
    "    alpha_l = 1.0 - alpha_s\r\n",
    "    for c in range(0, 3):\r\n",
    "        image[ymin:ymax, xmin:xmax, c] = (alpha_s * resized_smile[:, :, c] + alpha_l * image[ymin:ymax, xmin:xmax, c])\r\n"
   ],
   "outputs": [],
   "metadata": {}
  },
  {
   "cell_type": "code",
   "execution_count": null,
   "source": [
    "def parse_detector():\r\n",
    "    for detected_face in face_detection_inference_result[0][0]:\r\n",
    "    probability = round(detected_face[2] * 100, 1)\r\n",
    "\r\n",
    "    # If probability is more than the specified threshold, draw and label the box \r\n",
    "    if probability > prob_threshold:\r\n",
    "        # Get coordinates of the box containing the detected object\r\n",
    "        xmin = int(detected_face[3] * original_image_w)\r\n",
    "        ymin = int(detected_face[4] * original_image_h)\r\n",
    "        xmax = int(detected_face[5] * original_image_w)\r\n",
    "        ymax = int(detected_face[6] * original_image_h)\r\n",
    "    faces.append((x,y,x,y))\r\n",
    "    return faces"
   ],
   "outputs": [],
   "metadata": {}
  },
  {
   "cell_type": "code",
   "execution_count": null,
   "source": [
    "face_detection_inference_results = infer_detector()\r\n",
    "faces_coordinates = parse_detector()\r\n",
    "\r\n",
    "for face_coordinates in faces_coordinates:\r\n",
    "    x,y,x,y = face_coordinates\r\n",
    "    face = original_image[ymin:ymax, xmin:xmax]\r\n",
    "\r\n",
    "    recognized_emotions = emotion_recognition_inference(face) # ...\r\n",
    "    \r\n",
    "    emotion_recognition_inference_postprocess(processed_image, recognized_emotions, xmin, xmax, ymin, ymax) # ...\r\n"
   ],
   "outputs": [],
   "metadata": {}
  },
  {
   "cell_type": "code",
   "execution_count": null,
   "source": [
    "show_images(processed_image)"
   ],
   "outputs": [],
   "metadata": {}
  },
  {
   "cell_type": "markdown",
   "source": [
    "### Step 17: Loop over frames in the input video"
   ],
   "metadata": {}
  },
  {
   "cell_type": "code",
   "execution_count": null,
   "source": [
    "input_video_stream = cv2.VideoCapture(input_video_path)\r\n",
    "\r\n",
    "input_frame_width = int(input_video_stream.get(3))   # float `width`\r\n",
    "input_frame_height = int(input_video_stream.get(4))  # float `height`"
   ],
   "outputs": [],
   "metadata": {}
  },
  {
   "cell_type": "code",
   "execution_count": null,
   "source": [
    "output_video_stream = prepare_out_video_stream(input_video_stream, output_video_path)"
   ],
   "outputs": [],
   "metadata": {}
  },
  {
   "cell_type": "code",
   "execution_count": null,
   "source": [
    "while input_video_stream.isOpened():\r\n",
    "    # 1. Read the next frame from the input video \r\n",
    "    finish, original_frame = input_video_stream.read()\r\n",
    "    if not finish:\r\n",
    "        break\r\n",
    "        \r\n",
    "    # 2. apply face replacement from previous step\r\n",
    "    \r\n",
    "    # 3. Write the resulting frame to the output stream\r\n",
    "    output_video_stream.write(original_frame)\r\n",
    "    \r\n",
    "input_video_stream.release()\r\n",
    "# Save the resulting video\r\n",
    "output_video_stream.release()"
   ],
   "outputs": [],
   "metadata": {}
  },
  {
   "cell_type": "markdown",
   "source": [
    "Now the person (Artyom) on the resulting video will be detected with emotion:"
   ],
   "metadata": {}
  },
  {
   "cell_type": "code",
   "execution_count": null,
   "source": [
    "# Show a source video\r\n",
    "HTML(f\"\"\"<video width=\"600\" height=\"400\" controls><source src=\"{output_video_path}\" type=\"video/mp4\"></video>\"\"\")"
   ],
   "outputs": [],
   "metadata": {}
  },
  {
   "cell_type": "code",
   "execution_count": null,
   "source": [],
   "outputs": [],
   "metadata": {}
  }
 ],
 "metadata": {
  "kernelspec": {
   "display_name": "Python 3 (ipykernel)",
   "language": "python",
   "name": "python3"
  },
  "language_info": {
   "codemirror_mode": {
    "name": "ipython",
    "version": 3
   },
   "file_extension": ".py",
   "mimetype": "text/x-python",
   "name": "python",
   "nbconvert_exporter": "python",
   "pygments_lexer": "ipython3",
   "version": "3.9.6"
  },
  "nbTranslate": {
   "displayLangs": [
    "*"
   ],
   "hotkey": "alt-t",
   "langInMainMenu": true,
   "sourceLang": "en",
   "targetLang": "fr",
   "useGoogleTranslate": true
  },
  "toc": {
   "base_numbering": 1,
   "nav_menu": {},
   "number_sections": true,
   "sideBar": true,
   "skip_h1_title": false,
   "title_cell": "Table of Contents",
   "title_sidebar": "Contents",
   "toc_cell": false,
   "toc_position": {},
   "toc_section_display": true,
   "toc_window_display": false
  }
 },
 "nbformat": 4,
 "nbformat_minor": 4
}