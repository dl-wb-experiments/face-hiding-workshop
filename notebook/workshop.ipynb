{
 "cells": [
  {
   "cell_type": "markdown",
   "source": [
    "<figure style=\"text-align: center;\">\n",
    "    <img src=\"./pictures/pycon_logo2.png\" width=\"200\">\n",
    "</figure>"
   ],
   "metadata": {}
  },
  {
   "cell_type": "markdown",
   "source": [
    "# OpenVINO™ Deep Learning Workbench: Discover Deep Learning Basics and Write Your First AI Application"
   ],
   "metadata": {}
  },
  {
   "cell_type": "markdown",
   "source": [
    "![](./pictures/preview.png)"
   ],
   "metadata": {}
  },
  {
   "cell_type": "markdown",
   "source": [
    "## 1. [Introduction](#intro)\n",
    "\n",
    "\n",
    "## 2. [OpenVINO™ Overview](#OV-overview)\n",
    "\n",
    "## 3. [OpenVINO™ Deep Learning Workbench](#DL-WB-overview)\n",
    "\n",
    "## 4. [OpenVINO™ API](#OV-API)\n",
    "\n",
    "## 5. [Practice](#tasks)"
   ],
   "metadata": {
    "execution": {
     "iopub.execute_input": "2021-08-26T09:56:27.382889Z",
     "iopub.status.busy": "2021-08-26T09:56:27.382564Z",
     "iopub.status.idle": "2021-08-26T09:56:27.386235Z",
     "shell.execute_reply": "2021-08-26T09:56:27.385628Z",
     "shell.execute_reply.started": "2021-08-26T09:56:27.382853Z"
    }
   }
  },
  {
   "cell_type": "markdown",
   "source": [
    "# 1. Introduction  <a name=\"intro\"></a>\n",
    "\n",
    "### Workshop Contributors\n",
    "\n",
    "<div style=\"display: block; text-align: center;\">\n",
    "    <figure style=\"display: inline-block;\">\n",
    "      <img style=\"border-radius: 50%;\" src=\"pictures/Demidovskij.jpg\" width=\"150\" height=\"150\"/>\n",
    "      <figcaption style=\"text-align: center; font-weight: bold;\">Alexander Demidovskij</figcaption>\n",
    "      <figcaption style=\"text-align: center\">\n",
    "        <a href=\"https://github.com/demid5111\" style=\"display: inline-flex;\"><img src=\"./pictures/github.svg\" width=\"22px\" style=\"margin-right: 5px\">@demid5111</a>\n",
    "      </figcaption>\n",
    "    </figure>\n",
    "    \n",
    "    <figure style=\"display: inline-block;\">\n",
    "      <img style=\"border-radius: 50%;\" src=\"pictures/Tarkan.jpg\" width=\"150\" height=\"150\"/>\n",
    "      <figcaption style=\"text-align: center; font-weight: bold;\">Yaroslav Tarkan</figcaption>\n",
    "      <figcaption style=\"text-align: center\">\n",
    "        <a href=\"https://github.com/yatarkan\" style=\"display: inline-flex;\"><img src=\"./pictures/github.svg\" width=\"22px\" style=\"margin-right: 5px\">@yatarkan</a>\n",
    "      </figcaption>\n",
    "    </figure>\n",
    "    \n",
    "    <figure style=\"display: inline-block;\">\n",
    "      <img style=\"border-radius: 50%;\" src=\"pictures/Tugaryov.jpg\" width=\"150\" height=\"150\"/>\n",
    "      <figcaption style=\"text-align: center; font-weight: bold;\">Artyom Tugaryov</figcaption>\n",
    "      <figcaption style=\"text-align: center\">\n",
    "        <a href=\"https://github.com/artyomtugaryov\" style=\"display: inline-flex;\"><img src=\"./pictures/github.svg\" width=\"22px\" style=\"margin-right: 5px\">@artyomtugaryov</a>\n",
    "      </figcaption>\n",
    "    </figure>\n",
    "    \n",
    "    <br>\n",
    "    \n",
    "    <figure style=\"display: inline-block;\">\n",
    "      <img style=\"border-radius: 50%;\" src=\"pictures/Kashchikhin.jpg\" width=\"150\" height=\"150\"/>\n",
    "      <figcaption style=\"text-align: center; font-weight: bold;\">Andrej Kashchikhin</figcaption>\n",
    "      <figcaption style=\"text-align: center\">\n",
    "        <a href=\"https://github.com/akashchi\" style=\"display: inline-flex;\"><img src=\"./pictures/github.svg\" width=\"22px\" style=\"margin-right: 5px\">@akashchi</a>\n",
    "      </figcaption>\n",
    "    </figure>\n",
    "    \n",
    "    <figure style=\"display: inline-block;\">\n",
    "      <img style=\"border-radius: 50%;\" src=\"pictures/Savina.jpg\" width=\"150\" height=\"150\"/>\n",
    "      <figcaption style=\"text-align: center; font-weight: bold;\">Tatiana Savina</figcaption>\n",
    "      <figcaption style=\"text-align: center\">\n",
    "        <a href=\"https://github.com/tsavina\" style=\"display: inline-flex;\"><img src=\"./pictures/github.svg\" width=\"22px\" style=\"margin-right: 5px\">@tsavina</a>\n",
    "      </figcaption>\n",
    "    </figure>\n",
    "    \n",
    "    <figure style=\"display: inline-block;\">\n",
    "      <img style=\"border-radius: 50%;\" src=\"pictures/Fatekhov.jpg\" width=\"150\" height=\"150\"/>\n",
    "      <figcaption style=\"text-align: center; font-weight: bold;\">Marat Fatekhov</figcaption>\n",
    "      <figcaption style=\"text-align: center\">\n",
    "        <a href=\"https://github.com/mfatekho\" style=\"display: inline-flex;\"><img src=\"./pictures/github.svg\" width=\"22px\" style=\"margin-right: 5px\">@mfatekho</a>\n",
    "      </figcaption>\n",
    "    </figure>\n",
    "</div>\n",
    "\n",
    "### In This Workshop\n",
    "\n",
    "Welcome to the Deep Learning workshop, where you will find out how to start working with pre-trained neural networks and write your own AI application. For that, we will be using OpenVINO™ framework and its graphical interface Deep Learning Workbench. \n",
    "\n",
    "During this workshop, you will:\n",
    "\n",
    "1. Learn the basics of neural model analysis and optimization:\n",
    "    - what a model is and how it works\n",
    "    - how to measure its performance and analyze the quality\n",
    "    - how to tune the model for enhanced performance\n",
    "2. Write your own AI application that detects faces and recognizes emotions in images and video\n",
    "\n",
    "### The Deep Learning Era\n",
    "\n",
    "Deep Learning recently has gained wide popularity due to significant breakthroughs in the artificial neural networks area. It has enabled the development of various revolutionary AI applications. With Deep Learning, the algorithm does not need to be taught about the essential features. It can discover features from data on its own using a neural network. Generally, Deep Learning algorithms use massive amounts of data and aim to emulate the human brain capacity to observe, learn, and make decisions, particularly for highly complex tasks. \n",
    "\n",
    "![](pictures/why-deep-learning.png)"
   ],
   "metadata": {}
  },
  {
   "cell_type": "markdown",
   "source": [
    "<div style=\"display: flex;\">\n",
    "    <figure style=\"display: inline-block;\">\n",
    "      <img src=\"pictures/nn-vs-humans-contrast.png\" style=\"height: 300px;max-width: initial;\"/>\n",
    "      <figcaption style=\"text-align: center; font-weight: bold;\">Classification of images with high contrast</figcaption>\n",
    "      <figcaption style=\"text-align: center\">\n",
    "        <a href=\"https://arxiv.org/pdf/1706.06969.pdf\">Source</a>\n",
    "      </figcaption>\n",
    "    </figure>\n",
    "    <figure style=\"display: inline-block;\">\n",
    "      <img src=\"pictures/nn-vs-humans.png\" style=\"height: 300px;max-width: initial;\"/>\n",
    "      <figcaption style=\"text-align: center; font-weight: bold;\">Humans vs. Neural Models the LFW (Labeled Faces in the Wild) dataset</figcaption>\n",
    "      <figcaption style=\"text-align: center\">\n",
    "        <a href=\"https://arxiv.org/pdf/1404.3840.pdf\">Source</a>\n",
    "      </figcaption>\n",
    "    </figure>\n",
    "</div>"
   ],
   "metadata": {
    "jupyter": {
     "source_hidden": true
    },
    "tags": []
   }
  },
  {
   "cell_type": "markdown",
   "source": [
    "To perform a specific AI task, the model is trained on the known data. During training, the model makes predictions about what the data represents. Any error in the prediction is used to strengthen the artificial neuron connections until the acceptable accuracy level is achieved. The process of training usually done just once and requires massive amount of data and powerful computing systems. \n",
    "\n",
    "The process of using a pre-trained model to make predictions against previously unseen data is called inference. Inference is performed on different devices, happens several times, and consists in feeding the images to the model. In this workshop we will work with model inference; in other words, we will execute the model already pre-trained to perform useful work.\n",
    "\n",
    "![](pictures/deep-learning.png)\n",
    "\n",
    "Author: Mark Robins, Intel, [Link](https://www.intel.ru/content/www/ru/ru/artificial-intelligence/posts/deep-learning-training-and-inference.html)\n",
    "\n",
    "Let's take a look at the inference on the real-life example of the vehicle detection model. The model running alongside the traffic camera is continuously processing a video to identify the cars approaching the intersection. \n",
    "1. When a car enters at the red light, several photos of this car are taken by the camera and fed to the model, which finds a license plate on the image and sends it for further processing.\n",
    "2. At the server, the first inference is run to localize the license plate in the image. The second inference is run to read the characters on the license plate. \n",
    "3. After this, the license plate information is sent to the data center, where an application checks for potential traffic violations. \n",
    "\n",
    "| Device| Data transmission costs | Power consumption|Сomputing resources|\n",
    "|:-----: | :-----: | :-----: | :-----: |\n",
    "|Traffic Camera   | Low| Low | Low |\n",
    "| Gateway Server| Average| Average| Average |\n",
    "|Data Center | High| High| Powerful|\n",
    "\n",
    "\n",
    "\n",
    "![](pictures/system.png)\n",
    "\n",
    "Author: Mark Robins, Intel, [Link](https://www.intel.ru/content/www/ru/ru/artificial-intelligence/posts/deep-learning-training-and-inference.html)\n",
    "\n",
    "Therefore, given the specific task and the cost of data transmission, it is often beneficial to bring the model inference closer to the target where the data was first received. In this case, the pre-trained model requires some accelerating modifications and compression. So let's find out how the OpenVINO™ toolkit can help in achieving better performance of the Deep Learning models."
   ],
   "metadata": {}
  },
  {
   "cell_type": "markdown",
   "source": [
    "# 2. OpenVINO™ Toolkit <a name=\"OV-overview\"></a>\n",
    "\n",
    "1. [How OpenVINO advances AI technologies](#customers) \n",
    "2. [Introduction to the Openvino toolkit](#OV-intro) \n",
    "3. [OpenVINO capabilities](#OV-capabilities)\n",
    "4. [OpenVINO components](#OV-components)\n",
    "5. [OpenVINO Open Model Zoo](#OMZ)"
   ],
   "metadata": {}
  },
  {
   "cell_type": "markdown",
   "source": [
    "## 2.1 How OpenVINO advances AI technologies <a name=\"customers\"></a>\n",
    "\n",
    "The Open Visual Inference & Neural Network Optimization (OpenVINO™) toolkit is a comprehensive toolkit for optimizing pre-trained Deep Learning models of various use cases to achieve high performance and prepare them for deployment on Intel® platforms. Based on latest generations of artificial neural networks, including convolutional neural networks (CNNs), recurrent and attention-based networks, the toolkit extends computer vision and non-vision workloads across Intel® hardware, maximizing performance. It accelerates applications with high-performance, AI and deep learning inference deployed from edge to cloud."
   ],
   "metadata": {}
  },
  {
   "cell_type": "markdown",
   "source": [
    "![](pictures/openvino-success-stories.png)\n",
    "![](pictures/sales-collage.png)"
   ],
   "metadata": {}
  },
  {
   "cell_type": "markdown",
   "source": [
    "## 2.2 Introduction to the OpenVINO™ toolkit <a name=\"OV-intro\"></a>"
   ],
   "metadata": {}
  },
  {
   "cell_type": "markdown",
   "source": [
    "![](pictures/about_vino.png)"
   ],
   "metadata": {}
  },
  {
   "cell_type": "markdown",
   "source": [
    "## 2.3 OpenVINO™ Capabilities <a name=\"OV-capabilities\"></a>"
   ],
   "metadata": {}
  },
  {
   "cell_type": "markdown",
   "source": [
    "![](pictures/openvino_toolkit.png)"
   ],
   "metadata": {}
  },
  {
   "cell_type": "markdown",
   "source": [
    "## 2.4 OpenVINO™ Toolkit Components <a name=\"OV-components\"></a>"
   ],
   "metadata": {}
  },
  {
   "cell_type": "markdown",
   "source": [
    "![](pictures/additional_tools.png)"
   ],
   "metadata": {}
  },
  {
   "cell_type": "markdown",
   "source": [
    "## 2.5 OpenVINO™ Open Model Zoo <a name=\"OMZ\"></a>\n",
    "\n",
    "A model is a network that has been trained over a set of data using a certain framework. Since Deep learning technologies are used in various industrial\n",
    "applications, it is crucial to have an effective solution for each specific use case. OpenVINO Open Model Zoo provides a range of public and Intel pre-trained models to resolve a variety of different tasks, such as classification, object detection, segmentation and many others."
   ],
   "metadata": {}
  },
  {
   "cell_type": "markdown",
   "source": [
    "![](pictures/models.png)"
   ],
   "metadata": {}
  },
  {
   "cell_type": "markdown",
   "source": [
    "# 3. Deep Learning Workbench: OpenVINO™ Quickstart <a name=\"DL-WB-overview\"></a>\n",
    "\n",
    "1. [DL Workbench Capabilities](#DL-WB-capabilities)\n",
    "2. [DL Workbench Workflow](#DL-WB-workflow)"
   ],
   "metadata": {}
  },
  {
   "cell_type": "markdown",
   "source": [
    "Deep Learning Workbench (DL Workbench) is the official OpenVINO™ graphical interface designed to make the production of pre-trained deep learning models significantly easier.\n",
    "With DL Workbench you can start working with your deep learning model right from your browser: import a model, analyze its performance and accuracy, visualize the outputs, optimize and prepare the model for deployment in a matter of minutes. \n"
   ],
   "metadata": {}
  },
  {
   "cell_type": "markdown",
   "source": [
    "![](pictures/openvino_toolkit-dl-wb-highlighted.png)"
   ],
   "metadata": {}
  },
  {
   "cell_type": "markdown",
   "source": [
    "## 3.1 DL Workbench Capabilities <a name=\"DL-WB-capabilities\"></a>"
   ],
   "metadata": {}
  },
  {
   "cell_type": "markdown",
   "source": [
    "<img src=\"pictures/DL-WB-flow.png\" width=\"1400\" />\n"
   ],
   "metadata": {}
  },
  {
   "cell_type": "markdown",
   "source": [
    "## 3.2 DL Workbench Workflow <a name=\"DL-WB-workflow\"></a>\n",
    "\n",
    "1. [Open DL Workbench](#open-wb)\n",
    "2. [Import the Model](#import-model)\n",
    "3. [Import the Dataset](#import-dataset) \n",
    "4. [Benchmark the Model](#model-inference)\n",
    "5. [Analyze the Model](#analyze-model) \n",
    "6. [Optimize the Model](#optimize-model)\n",
    "7. [Profile the Model](#profile-model)"
   ],
   "metadata": {}
  },
  {
   "cell_type": "code",
   "execution_count": null,
   "source": [
    "# Display button for opening DL Workbench\r\n",
    "from IPython.display import HTML\r\n",
    "\r\n",
    "HTML(\"\"\"<button class=\"wb-button\" onclick=\"window.open(location.origin, '_blank');\">Open DL Workbench</button><style>.wb-button { display: flex; width: fit-content; margin: 20px auto; align-items: center; height: 50px; font-size: 18px; font-weight: 400; font-family: inherit; line-height: 20px; background-color: #003C71; border: 1px solid #003C71; color: #ffffff; cursor: pointer; border-radius: 4px; padding: 0 30px; box-shadow: 0px 4px 10px rgba(0, 0, 0, 0.15);}</style>\"\"\")\r\n"
   ],
   "outputs": [],
   "metadata": {
    "tags": []
   }
  },
  {
   "cell_type": "markdown",
   "source": [
    "### Open DL Workbench <a name=\"open-wb\"></a>\r\n",
    "\r\n",
    "To start working with DL Workbench, click **Create Project** button to open the Create Project page.\r\n",
    "\r\n",
    "![](pictures/start_page_dl_wb.png)"
   ],
   "metadata": {}
  },
  {
   "cell_type": "markdown",
   "source": [
    "### Import the Model <a name=\"import-model\"></a>\r\n",
    "\r\n",
    "Our first step is to import the model. Select and import **face-detection-adas-0001** model from the Open Model Zoo. \r\n",
    "\r\n",
    "![](pictures/create_project_model.png)"
   ],
   "metadata": {}
  },
  {
   "cell_type": "markdown",
   "source": [
    "To work with OpenVINO tools, you need to obtain a model in Intermediate Representation (IR) format. \n",
    "IR is the OpenVINO format of pre-trained model representation with two files:\n",
    "\n",
    "- XML file describing the network topology\n",
    "- BIN file containing weights and biases\n"
   ],
   "metadata": {}
  },
  {
   "cell_type": "markdown",
   "source": [
    "![](pictures/face_detection_model_import.png)"
   ],
   "metadata": {}
  },
  {
   "cell_type": "markdown",
   "source": [
    "### Import Dataset <a name=\"import-dataset\"></a>\n",
    "\n",
    "Next, you will need to obtain the data to work with the model. The data can be in different formats, depending on the task for which the model has been trained. Learn more about these formats in the [documentation](https://docs.openvinotoolkit.org/latest/workbench_docs_Workbench_DG_Dataset_Types.html). \n",
    "\n",
    "In our case, we will take a set of images and use them as the validation dataset:\n",
    "\n",
    "1. Use the following **link to download the dataset**: [Download Dataset](https://github.com/dl-wb-experiments/face-hiding-workshop/files/7081607/dataset.zip).\n",
    "2. Unarchive it.\n",
    "3. Go to DL Workbench."
   ],
   "metadata": {}
  },
  {
   "cell_type": "markdown",
   "source": [
    "![](pictures/create_project_dataset_import.png)"
   ],
   "metadata": {}
  },
  {
   "cell_type": "markdown",
   "source": [
    "Drag and drop the images from the archive to create the dataset, and click **Import**.\r\n",
    "\r\n",
    "![](pictures/not_annotated_dataset_import.png)"
   ],
   "metadata": {}
  },
  {
   "cell_type": "markdown",
   "source": [
    "### Benchmark the Model <a name=\"model-inference\"></a>\n",
    "\n",
    "Now that we have imported our model, we want to check how fast it works. For that, let's create our first project. Select the model and the dataset by clicking on them. You can also choose a hardware accelerator on which the model will be executed. We will analyze how our model works on CPU since we have this device available. "
   ],
   "metadata": {}
  },
  {
   "cell_type": "markdown",
   "source": [
    "![](pictures/create_project_completed.png)\r\n"
   ],
   "metadata": {}
  },
  {
   "cell_type": "markdown",
   "source": [
    "### Analyze the Model <a name=\"analyze-model\"></a>\r\n",
    "\r\n",
    "When the inference stage is finished, we can see the result of running our model on the CPU. Latency is the time required to process one image. The lower the value, the better. Throughput is the number of images (frames) processed per second. Higher throughput value means better performance. Now let's check how the model works and try to make it even faster."
   ],
   "metadata": {}
  },
  {
   "cell_type": "markdown",
   "source": [
    "![](pictures/inference_results_face_detection.png)"
   ],
   "metadata": {}
  },
  {
   "cell_type": "markdown",
   "source": [
    "To test how the model works, go to **Perform** and open **Visualize Output** tab. Select an image from the previously downloaded dataset, upload this image and visualize the model predictions. \n",
    "\n"
   ],
   "metadata": {}
  },
  {
   "cell_type": "markdown",
   "source": [
    "![](pictures/visualize_face_detection.png)"
   ],
   "metadata": {}
  },
  {
   "cell_type": "markdown",
   "source": [
    "### Optimize the Model <a name=\"optimize-model\"></a>"
   ],
   "metadata": {}
  },
  {
   "cell_type": "markdown",
   "source": [
    "One of the recommended ways to accelerate your model performance is to use 8-bit integer (INT8) calibration.\r\n",
    "Calibration is the process of lowering the model precision from floating-point (for example, FP32 or FP16) to integer precision (INT8).\r\n",
    "A model in the INT8 precision takes up less memory and has higher throughput capacity.  "
   ],
   "metadata": {}
  },
  {
   "cell_type": "markdown",
   "source": [
    "#### Quantize the Model to Low Precision"
   ],
   "metadata": {}
  },
  {
   "cell_type": "markdown",
   "source": [
    "![](pictures/quantization.PNG)"
   ],
   "metadata": {}
  },
  {
   "cell_type": "markdown",
   "source": [
    "#### Post-Trainig Optimization Toolkit\n"
   ],
   "metadata": {}
  },
  {
   "cell_type": "markdown",
   "source": [
    "In OpenVINO toolkit, INT8 calibration is performed by Post-Training Optimization Tool (POT). POT is used to calibrate a model and then execute it in the INT8 precision.\n",
    "To optimize the model, open **Optimize Performance** tab and select the INT8 method. "
   ],
   "metadata": {}
  },
  {
   "cell_type": "markdown",
   "source": [
    "![](pictures/optimize_face_detection.png)\r\n"
   ],
   "metadata": {}
  },
  {
   "cell_type": "markdown",
   "source": [
    "![](pictures/optimization_settings.png)"
   ],
   "metadata": {}
  },
  {
   "cell_type": "markdown",
   "source": [
    "#### Analyze the Improvements\r\n",
    "\r\n",
    "Go to the `face-detection-adas-0001` model page to check the performance boost after INT8 optimization. "
   ],
   "metadata": {}
  },
  {
   "cell_type": "markdown",
   "source": [
    "![](pictures/model_page_compare.png)"
   ],
   "metadata": {}
  },
  {
   "cell_type": "markdown",
   "source": [
    "Compare the throughput. Remember that higher throughput value means better performance. Then open optimized model project.\r\n",
    "\r\n",
    "![](pictures/comparison_models.png)\r\n",
    "\r\n"
   ],
   "metadata": {}
  },
  {
   "cell_type": "markdown",
   "source": [
    "<figure style=\"text-align: center;\">\n",
    "    <img src=\"./pictures/INT8_meme.png\" width=\"500\">\n",
    "</figure>"
   ],
   "metadata": {}
  },
  {
   "cell_type": "markdown",
   "source": [
    "### Profile the Model <a name=\"profile-model\"></a>\n",
    "\n",
    "We can see that the model has become faster after calibration. \n",
    "You can further accelerate your model by configuring the optimal parameters specific to each accelerator: streams and batches.\n",
    "In simple terms, streams are the number of cores, and batches are the number of images fed to the model. \n",
    "\n",
    "<img src=\"pictures/batch_stream_diagram.png\" width=\"1050\" />\n",
    "\n"
   ],
   "metadata": {}
  },
  {
   "cell_type": "markdown",
   "source": [
    "We suggest trying to infer the model with the following parameters: Streams - 4, Batches - 1. "
   ],
   "metadata": {}
  },
  {
   "cell_type": "markdown",
   "source": [
    "<img src=\"pictures/inference_config.png\" />"
   ],
   "metadata": {}
  },
  {
   "cell_type": "markdown",
   "source": [
    "![](pictures/stream_batch_result.png)"
   ],
   "metadata": {}
  },
  {
   "cell_type": "markdown",
   "source": [
    "After ensuring that the selected set of batches and streams has accelerated the model, let's use this information to create our working application."
   ],
   "metadata": {}
  },
  {
   "cell_type": "markdown",
   "source": [
    "Let’s briefly recap what you have learned at this stage:\n",
    "\n",
    "1. What a model is and how it works\n",
    "2. How to measure its performance\n",
    "3. How to accelerate the model using INT8 calibration\n",
    "4. How sets of streams and batches affect the model performance"
   ],
   "metadata": {}
  },
  {
   "cell_type": "markdown",
   "source": [
    "# 4. Learn OpenVINO™ API <a name=\"OV-API\"></a>"
   ],
   "metadata": {}
  },
  {
   "cell_type": "markdown",
   "source": [
    "Let's learn how to infer a model of object detection use case with OpenVINO™ Python interface and build our application. Object Detection in Computer Vision is the task of finding objects of a certain class and highlighting them with bounding boxes.\n",
    "\n",
    "We will go through the following steps:\n",
    "\n",
    "1. [Import required modules](#Import) \n",
    "2. [Configure inference: path to a model and other data](#Configure)\n",
    "3. [Initialize the OpenVINO™ runtime](#Initialize)\n",
    "4. [Read the model](#Read)\n",
    "5. [Make the model executable](#Make)\n",
    "6. [Load the model to the device](#Load)\n",
    "7. [Prepare an image for model inference](#Prepare)\n",
    "8. [Infer the model](#Infer)\n",
    "9. [Show predictions](#Show)"
   ],
   "metadata": {}
  },
  {
   "cell_type": "markdown",
   "source": [
    "### 4.1. Import Required Modules <a name=\"Import\"></a>\n",
    "\n",
    "Import the Python* modules that you will use in the sample code:\n",
    "- [pathlib](https://docs.python.org/3/library/os.html#module-os) is a standard Python module used for filename parsing.\n",
    "- [cv2](https://docs.opencv.org/trunk/) is an OpenCV module used to work with images.\n",
    "- [NumPy](http://www.numpy.org/) is an array manipulation module used to process images as arrays.\n",
    "- [OpenVINO Inference Engine](https://docs.openvinotoolkit.org/latest/openvino_docs_IE_DG_Deep_Learning_Inference_Engine_DevGuide.html) is an OpenVINO™ Python API module used for inference.\n",
    "- [IPython](https://ipython.readthedocs.io/en/stable/index.html) is an IPython API used for showing images and videos in the notebook\n",
    "\n",
    "Run the cell below to import the modules. "
   ],
   "metadata": {}
  },
  {
   "cell_type": "code",
   "execution_count": null,
   "source": [
    "import os\r\n",
    "import cv2\r\n",
    "import numpy as np\r\n",
    "from openvino.inference_engine import IECore\r\n",
    "from IPython.display import HTML, Image, display"
   ],
   "outputs": [],
   "metadata": {
    "tags": []
   }
  },
  {
   "cell_type": "markdown",
   "source": [
    "### 4.2. Configure Inference <a name=\"Configure\"></a>\n",
    "\n",
    "Once you have the OpenVINO™ IR of your model, you can start experimenting with it by inferring it and inspecting its output. \n",
    "\n",
    "> **NOTE**: Copy the paths to the `.xml` and `.bin` files from the DL Workbench UI and paste them below."
   ],
   "metadata": {}
  },
  {
   "cell_type": "markdown",
   "source": [
    "![](pictures/model_path.png)"
   ],
   "metadata": {}
  },
  {
   "cell_type": "markdown",
   "source": [
    "#### Required parameters\n",
    "\n",
    "Parameter| Explanation\n",
    "---|---\n",
    "**model_xml**| Path to the `.xml` file of OpenVINO™ IR of your model\n",
    "**model_bin**| Path to the `.bin` file of OpenVINO™ IR of your model"
   ],
   "metadata": {}
  },
  {
   "cell_type": "code",
   "execution_count": null,
   "source": [
    "# Model IR files\r\n",
    "face_detection_model_xml = 'data/models/face-detection-adas-0001.xml'\r\n",
    "face_detection_model_bin = 'data/models/face-detection-adas-0001.bin'"
   ],
   "outputs": [],
   "metadata": {
    "tags": []
   }
  },
  {
   "cell_type": "markdown",
   "source": [
    "#### Optional Parameters\n",
    "\n",
    "Experiment with optional parameters after you go through the full workflow of the tutorial.\n",
    "\n",
    "Parameter| Explanation\n",
    "---|---\n",
    "**input_image_path**| Path to an input image. Use the `car.bmp` image placed in the directory of the notebook or, if you have imported a dataset in the DL Workbench, copy the path to an image in the dataset.\n",
    "**device**| Specify the [target device](https://docs.openvinotoolkit.org/latest/workbench_docs_Workbench_DG_Select_Environment.html) to infer on: CPU, GPU, or MYRIAD. Note that the device must be present. For this tutorial, use `CPU` which is known to be present.\n",
    "**prob_threshold**| Probability threshold in percent to filter detection results "
   ],
   "metadata": {}
  },
  {
   "cell_type": "code",
   "execution_count": null,
   "source": [
    "# Input image file\r\n",
    "input_image_path = 'data/input_image.jpg'\r\n",
    "\r\n",
    "# Device to use\r\n",
    "device = 'CPU'\r\n",
    "\r\n",
    "# Minimum percentage threshold to detect an object\r\n",
    "prob_threshold = 60\r\n",
    "\r\n",
    "print(\r\n",
    "f'''Configuration parameters settings:\r\n",
    "    model_xml={face_detection_model_xml},\r\n",
    "    model_bin={face_detection_model_bin},\r\n",
    "    input_image_path={input_image_path},\r\n",
    "    device={device}, \r\n",
    "    prob_threshold={prob_threshold}''',\r\n",
    ")"
   ],
   "outputs": [],
   "metadata": {
    "tags": []
   }
  },
  {
   "cell_type": "markdown",
   "source": [
    "### 4.3 Initialize the OpenVINO™ Runtime <a name=\"Initialize\"></a>\n",
    "\n",
    "Once you define the parameters, let's initiate the `IECore` object that accesses OpenVINO™ runtime capabilities."
   ],
   "metadata": {}
  },
  {
   "cell_type": "code",
   "execution_count": null,
   "source": [
    "# Create an Inference Engine instance\r\n",
    "ie_core = IECore()"
   ],
   "outputs": [],
   "metadata": {
    "tags": []
   }
  },
  {
   "cell_type": "markdown",
   "source": [
    "### 4.4 Read the Model <a name=\"Read\"></a>\n",
    "\n",
    "Put the IR of your model in the memory."
   ],
   "metadata": {}
  },
  {
   "cell_type": "code",
   "execution_count": null,
   "source": [
    "# Read the model from IR files\r\n",
    "face_detection_model = ie_core.read_network(model=face_detection_model_xml, weights=face_detection_model_bin)"
   ],
   "outputs": [],
   "metadata": {
    "tags": []
   }
  },
  {
   "cell_type": "markdown",
   "source": [
    "### 4.5 Make the Model Executable <a name=\"Make\"></a>\n",
    "\n",
    "Reading a network is not enough to start a model inference. The model must be loaded to a particular abstraction representing a particular accelerator. In OpenVINO™, this abstraction is called *plugin*. A network loaded to a plugin becomes executable and will be inferred in one of the next steps. \n",
    "\n",
    "After loading, we keep necessary model information such as names of input and output blobs: `input_blob` and `output_blob`. Let's remember the input dimensions of your model:\n",
    "- `n` - input batch size\n",
    "- `c` - number of input channels. Often, it is `1` or `3`, which means that the model expects either a grayscale or a color image.\n",
    "- `h` - input image height\n",
    "- `w` - input image width"
   ],
   "metadata": {}
  },
  {
   "cell_type": "code",
   "execution_count": null,
   "source": [
    "# Store names of input and output of the model\r\n",
    "face_detector_input_name = next(iter(face_detection_model.input_info))\r\n",
    "face_detector_output_name = next(iter(face_detection_model.outputs))\r\n",
    "\r\n",
    "# Read the input dimensions: n=batch size, c=number of channels, h=height, w=width\r\n",
    "face_detector_input_shape = face_detection_model.input_info[face_detector_input_name].input_data.shape\r\n",
    "n, c, face_detector_input_height, face_detector_input_width = face_detector_input_shape\r\n",
    "\r\n",
    "print(f'Face Detection model input dimensions: n={n}, c={c}, h={face_detector_input_height}, w={face_detector_input_width}')"
   ],
   "outputs": [],
   "metadata": {
    "tags": []
   }
  },
  {
   "cell_type": "markdown",
   "source": [
    "<img src=\"pictures/face_detection.png\" width=\"1050\" />"
   ],
   "metadata": {}
  },
  {
   "cell_type": "markdown",
   "source": [
    "### 4.6 Load the Model to the Device <a name=\"Load\"></a>\n",
    "\n",
    "This step is necessary to infer the model. You can learn more in the [documentation](https://docs.openvinotoolkit.org/latest/ie_python_api/classie__api_1_1IECore.html#ac9a2e043d14ccfa9c6bbf626cfd69fcc)."
   ],
   "metadata": {}
  },
  {
   "cell_type": "code",
   "execution_count": null,
   "source": [
    "face_detector = ie_core.load_network(network=face_detection_model, device_name=device)\r\n",
    "print(f'Loaded the model into the {device} device.')"
   ],
   "outputs": [],
   "metadata": {
    "tags": []
   }
  },
  {
   "cell_type": "markdown",
   "source": [
    "### 4.7 Prepare an Image for Model Inference <a name=\"Prepare\"></a>\n",
    "\n",
    "Now let's read and prepare the input image by resizing and re-arranging its dimensions according to the input dimensions of the model."
   ],
   "metadata": {}
  },
  {
   "cell_type": "code",
   "execution_count": null,
   "source": [
    "# Define the function to load the input image\n",
    "def load_input_image(input_path):   \n",
    "    # Use OpenCV to load the input image\n",
    "    return cv2.imread(input_path)\n",
    "\n",
    "# Define the function to pre-process (resize, transpose) the input image\n",
    "def pre_process_input_image(image: np.ndarray, target_height: int, target_width: int) -> np.ndarray:\n",
    "    # Resize the image dimensions from image to model input w x h\n",
    "    resized_image = cv2.resize(image, (target_width, target_height))\n",
    "    \n",
    "    # Change data layout from HWC to CHW\n",
    "    transposed_image = resized_image.transpose((2, 0, 1))\n",
    "    \n",
    "    n = 1 # Batch is always 1 in our case\n",
    "    c = 3 # Channels is always 3 in our case\n",
    "    \n",
    "    # Reshape to input dimensions\n",
    "    reshaped_image = transposed_image.reshape((n, c, target_height, target_width))\n",
    "    return reshaped_image\n",
    "\n",
    "# Define the function to show the image\n",
    "def show_image(image: np.ndarray):\n",
    "    # Encode ndarray\n",
    "    _, data = cv2.imencode('.jpg', image) \n",
    "    \n",
    "    #  Create IPython.display.Image instance to display the image in the notebook\n",
    "    image = Image(data=data)\n",
    "\n",
    "    display(image)"
   ],
   "outputs": [],
   "metadata": {
    "tags": []
   }
  },
  {
   "cell_type": "code",
   "execution_count": null,
   "source": [
    "original_image = load_input_image(input_image_path)\n",
    "show_image(original_image)"
   ],
   "outputs": [],
   "metadata": {
    "tags": []
   }
  },
  {
   "cell_type": "code",
   "execution_count": null,
   "source": [
    "# Save the shape of the original image to scale inference results in the future\n",
    "original_image_height, original_image_width, *_ = original_image.shape\n",
    "\n",
    "# Prepare the image\n",
    "input_frame = pre_process_input_image(original_image, target_height=face_detector_input_height, target_width=face_detector_input_width)"
   ],
   "outputs": [],
   "metadata": {
    "tags": []
   }
  },
  {
   "cell_type": "markdown",
   "source": [
    "### 4.8 Infer the Model <a name=\"Infer\"></a>\n",
    "\n",
    "Now let's proceed to the inference by feeding the prepared image to the model."
   ],
   "metadata": {}
  },
  {
   "cell_type": "code",
   "execution_count": null,
   "source": [
    "face_detection_inference_results = face_detector.infer(\n",
    "    inputs={\n",
    "        face_detector_input_name: input_frame\n",
    "    }\n",
    ")"
   ],
   "outputs": [],
   "metadata": {}
  },
  {
   "cell_type": "markdown",
   "source": [
    "Then we print the inference results: a dictionary, where the keys are the names of the outputs, and the values are the inference results for each output layer."
   ],
   "metadata": {}
  },
  {
   "cell_type": "code",
   "execution_count": null,
   "source": [
    "print(face_detection_inference_results)"
   ],
   "outputs": [],
   "metadata": {
    "tags": []
   }
  },
  {
   "cell_type": "markdown",
   "source": [
    "Get the needed inference results for a single output."
   ],
   "metadata": {}
  },
  {
   "cell_type": "code",
   "execution_count": null,
   "source": [
    "face_detection_inference_results = face_detection_inference_results[face_detector_output_name]"
   ],
   "outputs": [],
   "metadata": {}
  },
  {
   "cell_type": "markdown",
   "source": [
    "### 4.9 Show Predictions <a name=\"Show\"></a>\n",
    "\n",
    "The next step is to parse the inference results and draw boxes over the objects detected in the image.\n",
    "\n",
    "The result of model inference (`face_detection_inference_results`) is an array of predictions. Each prediction `object` has the following structure:\n",
    "\n",
    "- `object[0]`: information about whether the detected object is a background\n",
    "- `object[1]`: predicted class ID\n",
    "- `object[2]`: сonfidence level that currently detected object is an instance of the predicted class\n",
    "- `object[3]`: lower x coordinate of the detected object \n",
    "- `object[4]`: lower y coordinate of the detected object\n",
    "- `object[5]`: upper x coordinate of the detected object\n",
    "- `object[6]`: upper y coordinate of the detected object"
   ],
   "metadata": {}
  },
  {
   "cell_type": "markdown",
   "source": [
    "The function for converting the initial results of the face detector into a more convenient structure:"
   ],
   "metadata": {}
  },
  {
   "cell_type": "code",
   "execution_count": null,
   "source": [
    "def parse_face_detection_results(inference_results: np.ndarray, original_image_width: int, original_image_height: int) -> list:\n",
    "    # Prepare a list to save the detected faces \n",
    "    detected_faces = []\n",
    "    \n",
    "    # Iterate through all the detected faces\n",
    "    for inference_result in inference_results[0][0]:\n",
    "        \n",
    "        # Get the probability of the detected face and convert it to percent\n",
    "        probability = inference_result[2]\n",
    "        confidence = round(probability * 100, 1)\n",
    "\n",
    "        # If confidence is more than the specified threshold, draw and label the box \n",
    "        if confidence < prob_threshold:\n",
    "            continue\n",
    "\n",
    "        # Get coordinates of the box containing the detected object\n",
    "        xmin = int(inference_result[3] * original_image_width)\n",
    "        ymin = int(inference_result[4] * original_image_height)\n",
    "        xmax = int(inference_result[5] * original_image_width)\n",
    "        ymax = int(inference_result[6] * original_image_height)\n",
    "\n",
    "        detected_face = (xmin, ymin, xmax, ymax, confidence)\n",
    "        detected_faces.append(detected_face)\n",
    "            \n",
    "    return detected_faces"
   ],
   "outputs": [],
   "metadata": {}
  },
  {
   "cell_type": "markdown",
   "source": [
    "Parse the detected faces from the inference results."
   ],
   "metadata": {}
  },
  {
   "cell_type": "code",
   "execution_count": null,
   "source": [
    "# Parse faces  \n",
    "detected_faces = parse_face_detection_results(face_detection_inference_results, original_image_width, original_image_height)\n",
    "detected_faces"
   ],
   "outputs": [],
   "metadata": {
    "tags": []
   }
  },
  {
   "cell_type": "markdown",
   "source": [
    "The function to process inference results of the face detector: draw boxes in the original image."
   ],
   "metadata": {}
  },
  {
   "cell_type": "code",
   "execution_count": null,
   "source": [
    "# Function to process inference results of the face detector \n",
    "def draw_boxes_of_detected_faces(detected_faces: list, original_image: np.ndarray) -> np.ndarray:\n",
    "    processed_image = original_image.copy()\n",
    "    \n",
    "    # Get output results\n",
    "    color = (12.5, 255, 255)\n",
    "    \n",
    "    # Loop through all possible results\n",
    "    for detected_face in detected_faces:\n",
    "        xmin, ymin, xmax, ymax, confidence = detected_face\n",
    "\n",
    "        # Draw the box and label for the detected object\n",
    "        cv2.rectangle(processed_image, (xmin, ymin), (xmax, ymax), color, 4)\n",
    "        cv2.putText(processed_image, \n",
    "                    f'{confidence} %', (xmin, ymin - 7), \n",
    "                    cv2.FONT_HERSHEY_COMPLEX, 1, color, 2)\n",
    "            \n",
    "    return processed_image"
   ],
   "outputs": [],
   "metadata": {}
  },
  {
   "cell_type": "code",
   "execution_count": null,
   "source": [
    "# Draw boxes of the faces detected in the image\n",
    "processed_image = draw_boxes_of_detected_faces(detected_faces, original_image)\n",
    "\n",
    "show_image(processed_image)"
   ],
   "outputs": [],
   "metadata": {}
  },
  {
   "cell_type": "markdown",
   "source": [
    "# Practice <a name=\"tasks\"></a>\n",
    "\n",
    "1. [Task 1: Apply predefined blur method to the given image at inferred coordinates](#task1) \n",
    "2. [Task 2: Add blurring logic to predefined video processor](#task2)\n",
    "3. [Task 3: Replace each face in the image with the corresponding emoji](#task3) \n",
    "4. [Task 4: Put emojis over faces in the video](#task4)\n",
    "\n",
    "\n",
    "<figure style=\"text-align: center;\">\n",
    "    <img src=\"pictures/lets-code.gif\"/>\n",
    "</figure>"
   ],
   "metadata": {}
  },
  {
   "cell_type": "markdown",
   "source": [
    "## Task 1: Apply predefined blur method to the given image at inferred coordinates <a name=\"task1\"></a>\n",
    "\n",
    "The goal of this task is to blur all the faces detected on the photo. We prepared the functions to process detected faces and blur them. You need to fill out the parts of code to cut a face from the image, blur it, and paste the blurry face image to the original photo."
   ],
   "metadata": {}
  },
  {
   "cell_type": "markdown",
   "source": [
    "### 1. Define the function to blur a part of the image"
   ],
   "metadata": {}
  },
  {
   "cell_type": "code",
   "execution_count": null,
   "source": [
    "def blur(image: np.ndarray) -> np.ndarray:\n",
    "    height, width = image.shape[:2]\n",
    "    pixels_count = 16\n",
    "    \n",
    "    # Resize the image to pixels_count*pixels_count with interpolation to blur the image\n",
    "    resized_image = cv2.resize(image, (pixels_count, pixels_count), interpolation=cv2.INTER_LINEAR)\n",
    "    # Resize the image to original image size\n",
    "    return cv2.resize(resized_image, (width, height), interpolation=cv2.INTER_NEAREST)"
   ],
   "outputs": [],
   "metadata": {
    "tags": []
   }
  },
  {
   "cell_type": "code",
   "execution_count": null,
   "source": [
    "# Get the first face from the example image \n",
    "first_face = detected_faces[0]\n",
    "\n",
    "# Unzip the face coordinates\n",
    "xmin, ymin, xmax, ymax, _ = first_face \n",
    "\n",
    "# Get the face from the original image \n",
    "example_image = original_image[ymin:ymax, xmin:xmax]\n",
    "print('Original image:')\n",
    "show_image(example_image)\n",
    "\n",
    "# Blur the image\n",
    "print('Blurry image:')\n",
    "blurry_image = blur(example_image)\n",
    "show_image(blurry_image)"
   ],
   "outputs": [],
   "metadata": {
    "tags": []
   }
  },
  {
   "cell_type": "markdown",
   "source": [
    "### 2. Define the function for inference\n",
    "\n",
    "This function will prepare an image for inference (use `pre_process_input_image` for this) and run inference of the image using  `face_detector`. Note that we will also use this function later. "
   ],
   "metadata": {}
  },
  {
   "cell_type": "code",
   "execution_count": null,
   "source": [
    "def face_detector_inference(image: np.ndarray) -> np.ndarray:\n",
    "    # 1. Prepare the image\n",
    "    input_frame = pre_process_input_image(image, target_width=face_detector_input_width, target_height=face_detector_input_height)\n",
    "\n",
    "    # 2. Infer the model\n",
    "    face_detection_inference_results = face_detector.infer(inputs={face_detector_input_name: input_frame})  \n",
    "    return face_detection_inference_results[face_detector_output_name]"
   ],
   "outputs": [],
   "metadata": {}
  },
  {
   "cell_type": "markdown",
   "source": [
    "### 3. Infer the model on the given image"
   ],
   "metadata": {}
  },
  {
   "cell_type": "code",
   "execution_count": null,
   "source": [
    "inference_result = face_detector_inference(original_image)"
   ],
   "outputs": [],
   "metadata": {
    "tags": []
   }
  },
  {
   "cell_type": "markdown",
   "source": [
    "### 4. Define the function to process inference results of the face detection model\n",
    "\n",
    "Use the `blur` function to blur the part of the image where the face is detected."
   ],
   "metadata": {}
  },
  {
   "cell_type": "code",
   "execution_count": null,
   "source": [
    "def blur_faces(face_detection_inference_result: np.ndarray, original_image: np.ndarray) -> np.ndarray:\n",
    "    # Get the original image size  \n",
    "    original_image_height, original_image_width,  _ = original_image.shape\n",
    "    \n",
    "    # Prepare the resulting image to not affect the original image\n",
    "    processed_image = original_image.copy()\n",
    "    \n",
    "    \n",
    "    # 1. Parse the model inference results\n",
    "    detected_faces = # ...\n",
    "    \n",
    "    # 2. Iterate through the faces and blur each face\n",
    "    for detected_face in detected_faces:\n",
    "        raise NotImplementedError\n",
    "            \n",
    "    return processed_image"
   ],
   "outputs": [],
   "metadata": {
    "tags": []
   }
  },
  {
   "cell_type": "markdown",
   "source": [
    "### 5. Run face detector inference and blur faces in the image"
   ],
   "metadata": {}
  },
  {
   "cell_type": "code",
   "execution_count": null,
   "source": [
    "# 3. Blur faces in the image\n",
    "processed_image = blur_faces(inference_result, original_image)\n",
    "\n",
    "show_image(processed_image)"
   ],
   "outputs": [],
   "metadata": {
    "tags": []
   }
  },
  {
   "cell_type": "markdown",
   "source": [
    "## Task 2: Add blurring logic to predefined video processor <a name=\"task2\"></a>\n",
    "\n",
    "Now that we have learned how to blur faces in an image, let's try to blur all faces in a video. For that, we will use the previously defined functions. "
   ],
   "metadata": {}
  },
  {
   "cell_type": "markdown",
   "source": [
    "### 1. Define the paths to the input and output videos"
   ],
   "metadata": {}
  },
  {
   "cell_type": "code",
   "execution_count": null,
   "source": [
    "# Input video file\n",
    "input_video_path = 'data/input.mp4'\n",
    "\n",
    "# Output video file\n",
    "blurry_faces_output_video_path = 'data/blurry_output.mp4'"
   ],
   "outputs": [],
   "metadata": {}
  },
  {
   "cell_type": "markdown",
   "source": [
    "### 2. Show the input video"
   ],
   "metadata": {}
  },
  {
   "cell_type": "code",
   "execution_count": null,
   "source": [
    "# Show the input video\n",
    "HTML(f\"\"\"<video width=\"600\" height=\"400\" controls><source src=\"{input_video_path}\" type=\"video/mp4\"></video>\"\"\")"
   ],
   "outputs": [],
   "metadata": {}
  },
  {
   "cell_type": "markdown",
   "source": [
    "### 3. Create a function to prepare video streams"
   ],
   "metadata": {}
  },
  {
   "cell_type": "code",
   "execution_count": null,
   "source": [
    "from typing import Tuple\n",
    "\n",
    "def prepare_video_streams(input_video_file_path: str, output_video_file_path: str) -> Tuple[cv2.VideoCapture, cv2.VideoWriter]:\n",
    "    input_video_stream = cv2.VideoCapture(input_video_path)\n",
    "    width  = int(input_video_stream.get(cv2.CAP_PROP_FRAME_WIDTH))\n",
    "    height = int(input_video_stream.get(cv2.CAP_PROP_FRAME_HEIGHT))\n",
    "    fps = input_video_stream.get(cv2.CAP_PROP_FPS)\n",
    "    video_writer = cv2.VideoWriter(output_video_file_path, cv2.VideoWriter_fourcc(*'avc1'), fps, (width, height))\n",
    "    return input_video_stream, video_writer"
   ],
   "outputs": [],
   "metadata": {}
  },
  {
   "cell_type": "markdown",
   "source": [
    "### 4. Process the video"
   ],
   "metadata": {}
  },
  {
   "cell_type": "code",
   "execution_count": null,
   "source": [
    "input_video_stream, output_video_stream = prepare_video_streams(input_video_path, blurry_faces_output_video_path)\n",
    "\n",
    "original_image_width  = int(input_video_stream.get(cv2.CAP_PROP_FRAME_WIDTH))\n",
    "original_image_height = int(input_video_stream.get(cv2.CAP_PROP_FRAME_HEIGHT))\n",
    "\n",
    "while input_video_stream.isOpened():\n",
    "    # 1. Read the next frame from the input video \n",
    "    return_code, original_frame = input_video_stream.read()\n",
    "    if not return_code:\n",
    "        break\n",
    "        \n",
    "    \n",
    "    # 2. Infer face detector\n",
    "    inference_result = # ...\n",
    "\n",
    "    # 3. Blur faces in the image\n",
    "    processed_image = # ...\n",
    "    \n",
    "    # 4. Write the resulting frame to the output stream\n",
    "    output_video_stream.write(processed_image)\n",
    "    \n",
    "\n",
    "input_video_stream.release()\n",
    "# Save the resulting video\n",
    "output_video_stream.release()"
   ],
   "outputs": [],
   "metadata": {}
  },
  {
   "cell_type": "code",
   "execution_count": null,
   "source": [
    "# Show the resulting video\n",
    "HTML(f\"\"\"<video width=\"600\" height=\"400\" controls><source src=\"{blurry_faces_output_video_path}\" type=\"video/mp4\"></video>\"\"\")"
   ],
   "outputs": [],
   "metadata": {}
  },
  {
   "cell_type": "markdown",
   "source": [
    "## Task 3: Replace each face in the photo with the corresponding emoji <a name=\"task3\"></a>"
   ],
   "metadata": {}
  },
  {
   "cell_type": "markdown",
   "source": [
    "###  1. Download a pretrained model from the Open Model Zoo\n",
    "\n",
    "OpenVINO™ toolkit includes the [Model Optimizer](http://docs.openvinotoolkit.org/latest/_docs_MO_DG_Deep_Learning_Model_Optimizer_DevGuide.html) used to convert and optimize trained models into Intermediate Representation (IR) model files, and the [Inference Engine](http://docs.openvinotoolkit.org/latest/_docs_IE_DG_Deep_Learning_Inference_Engine_DevGuide.html), which uses the IR model files to run inference on hardware devices. The IR model files are created from models trained in popular frameworks, like Caffe\\*, TensorFlow\\*, and others. \n",
    "\n",
    "OpenVINO™ [Model Downloader](http://docs.openvinotoolkit.org/latest/_tools_downloader_README.html) downloads common inference models from the [Intel® Open Model Zoo](https://github.com/opencv/open_model_zoo). \n",
    "\n",
    "Let's download the `emotions-recognition-retail-0003` model first."
   ],
   "metadata": {}
  },
  {
   "cell_type": "code",
   "execution_count": null,
   "source": [
    "!python3 /opt/intel/openvino_2021/deployment_tools/open_model_zoo/tools/downloader/downloader.py --name emotions-recognition-retail-0003 --precision FP16 --output_dir data/model"
   ],
   "outputs": [],
   "metadata": {
    "tags": []
   }
  },
  {
   "cell_type": "code",
   "execution_count": null,
   "source": [
    "# Model IR files\n",
    "emotion_recognition_model_xml = 'data/model/intel/emotions-recognition-retail-0003/FP16/emotions-recognition-retail-0003.xml'\n",
    "emotion_recognition_model_bin = 'data/model/intel/emotions-recognition-retail-0003/FP16/emotions-recognition-retail-0003.bin'"
   ],
   "outputs": [],
   "metadata": {
    "tags": []
   }
  },
  {
   "cell_type": "markdown",
   "source": [
    "### 2. Read the model "
   ],
   "metadata": {}
  },
  {
   "cell_type": "markdown",
   "source": [
    "Call ie_core.read_network to read the OpenVINO IR model. The method has two arguments:\n",
    "    \n",
    "    1. model - path to the xml model file\n",
    "    2. weights - path to the bin model file"
   ],
   "metadata": {}
  },
  {
   "cell_type": "code",
   "execution_count": null,
   "source": [
    "emotion_recognition_model = ie_core.read_network(model=emotion_recognition_model_xml, weights=emotion_recognition_model_bin)"
   ],
   "outputs": [],
   "metadata": {
    "tags": []
   }
  },
  {
   "cell_type": "markdown",
   "source": [
    "### 3. Get the input name and shape of the model "
   ],
   "metadata": {}
  },
  {
   "cell_type": "markdown",
   "source": [
    "Get the input name and shape of the emotion recognizer. For more information about the model, refer the [documentation](https://docs.openvinotoolkit.org/latest/omz_models_model_emotions_recognition_retail_0003.html)."
   ],
   "metadata": {}
  },
  {
   "cell_type": "code",
   "execution_count": null,
   "source": [
    "emotion_recognizer_input_name = next(iter(emotion_recognition_model.input_info))\n",
    "\n",
    "emotion_recognizer_input_shape = emotion_recognition_model.input_info[emotion_recognizer_input_name].input_data.shape\n",
    "n, c, emotion_recognizer_input_height, emotion_recognizer_input_width = emotion_recognizer_input_shape\n",
    "\n",
    "print(f'Input shape of the emotion recognition network is n={n}, c={c}, h={emotion_recognizer_input_height}, w={emotion_recognizer_input_width}')"
   ],
   "outputs": [],
   "metadata": {
    "tags": []
   }
  },
  {
   "cell_type": "code",
   "execution_count": null,
   "source": [
    "emotion_recognizer_output_name = next(iter(emotion_recognition_model.outputs))"
   ],
   "outputs": [],
   "metadata": {
    "tags": []
   }
  },
  {
   "cell_type": "markdown",
   "source": [
    "<img src=\"pictures/emotion_recognition.png\" width=\"1050\" />"
   ],
   "metadata": {}
  },
  {
   "cell_type": "markdown",
   "source": [
    "### 4. Load the network to the device\n",
    "\n",
    "Use the instance of `IECore`.\n",
    "The class `IECore` has a special function called `load_network`, which loads a network to a device.\n",
    "This function prepares the network for the first inference on the device \n",
    "and returns an instance of the network prepared for an inference (execution). \n",
    "This function has many parameters, but in this case, you need to know only about two of them:\n",
    "* `network` - instance of `IENetwork`\n",
    "* `device_name` - string, contains a device name to infer a model on CPU, GPU and so on."
   ],
   "metadata": {}
  },
  {
   "cell_type": "code",
   "execution_count": null,
   "source": [
    "emotion_recognizer = ie_core.load_network(emotion_recognition_model, device)"
   ],
   "outputs": [],
   "metadata": {
    "tags": []
   }
  },
  {
   "cell_type": "markdown",
   "source": [
    "### 5. Prepare the function for inference\n",
    "\n",
    "For better understanding of the model inference results, refer to the [documentation](https://docs.openvinotoolkit.org/latest/omz_models_model_emotions_recognition_retail_0003.html)."
   ],
   "metadata": {}
  },
  {
   "cell_type": "code",
   "execution_count": null,
   "source": [
    "def emotion_recognizer_inference(face_frame: np.ndarray) -> np.ndarray:\n",
    "    prepared_frame = pre_process_input_image(face_frame, target_width=emotion_recognizer_input_width, target_height=emotion_recognizer_input_height)\n",
    "    \n",
    "    # Run the inference the same way you did before\n",
    "    inference_results = emotion_recognizer.infer({\n",
    "        emotion_recognizer_input_name: prepared_frame\n",
    "    })\n",
    "    \n",
    "    return inference_results[emotion_recognizer_output_name]"
   ],
   "outputs": [],
   "metadata": {
    "tags": []
   }
  },
  {
   "cell_type": "markdown",
   "source": [
    "Let's take a closer look at the model. Run a single inference of the image."
   ],
   "metadata": {}
  },
  {
   "cell_type": "code",
   "execution_count": null,
   "source": [
    "original_frame = load_input_image('./data/emotion.jpg')\n",
    "\n",
    "# Infer the model\n",
    "emotion_recognition_inference_results = emotion_recognizer_inference(original_frame)\n",
    "emotion_recognition_inference_results"
   ],
   "outputs": [],
   "metadata": {
    "tags": []
   }
  },
  {
   "cell_type": "markdown",
   "source": [
    "The inference results is a nested list with the emotions prediction:\n",
    "\n",
    "    - neutral\n",
    "    - happy\n",
    "    - sad\n",
    "    - surprised\n",
    "    - angry\n",
    "    \n",
    " Let's process this results for the image:"
   ],
   "metadata": {}
  },
  {
   "cell_type": "code",
   "execution_count": null,
   "source": [
    "# Flat the nested list\n",
    "face_detection_inference_result = emotion_recognition_inference_results.flatten()\n",
    "\n",
    "# Define the emotions\n",
    "emotions = ['neutral', 'happy', 'sad', 'surprised', 'angry']\n",
    "\n",
    "show_image(original_frame)\n",
    "\n",
    "print('Inference results:')\n",
    "for index, prediction in enumerate(face_detection_inference_result):\n",
    "    emotion = emotions[index]\n",
    "    print(f'{emotion:10}:\\t{prediction}')"
   ],
   "outputs": [],
   "metadata": {
    "tags": []
   }
  },
  {
   "cell_type": "markdown",
   "source": [
    "### 6. Replace a face with the corresponding emoji\n",
    "\n",
    "Now we are ready to replace the detected face with a emoji that corresponds to the emotion:"
   ],
   "metadata": {}
  },
  {
   "cell_type": "code",
   "execution_count": null,
   "source": [
    "# Load the image\n",
    "original_image = load_input_image(input_image_path)\n",
    "original_image_height, original_image_width, *_ = original_image.shape\n",
    "\n",
    "# Display the input image\n",
    "print(\"Input image:\")\n",
    "show_image(original_image)"
   ],
   "outputs": [],
   "metadata": {}
  },
  {
   "cell_type": "markdown",
   "source": [
    "#### 6.1 Prepare a function that returns the corresponding emoji"
   ],
   "metadata": {}
  },
  {
   "cell_type": "code",
   "execution_count": null,
   "source": [
    "def get_emoji_by_index(emotion_inference_result: np.ndarray) -> np.ndarray:\n",
    "    emotions = ['neutral', 'happy', 'sad', 'surprised', 'angry']\n",
    "    # Get the index of the emotion with the highest probability \n",
    "    emotion_index = np.argmax(emotion_inference_result.flatten()) \n",
    "    emoji_path = f'./data/{emotions[emotion_index]}.png'\n",
    "    return cv2.imread(emoji_path, -1)"
   ],
   "outputs": [],
   "metadata": {}
  },
  {
   "cell_type": "markdown",
   "source": [
    "For the given inference result, we will get the following emoji:"
   ],
   "metadata": {}
  },
  {
   "cell_type": "code",
   "execution_count": null,
   "source": [
    "emoji = get_emoji_by_index(face_detection_inference_result)\n",
    "show_image(emoji)"
   ],
   "outputs": [],
   "metadata": {
    "tags": []
   }
  },
  {
   "cell_type": "markdown",
   "source": [
    "#### 6.2 Define a function that puts an emoji over the face"
   ],
   "metadata": {}
  },
  {
   "cell_type": "code",
   "execution_count": null,
   "source": [
    "def put_emoji_on_top_of_face(inference_results: np.ndarray, face: np.ndarray) -> np.ndarray:\n",
    "    result_face = face.copy()\n",
    "    \n",
    "    # Get width and height of the face \n",
    "    height, width, _ = face.shape \n",
    "    \n",
    "    # Get an emoji by inference results\n",
    "    emoji = get_emoji_by_index(inference_results)\n",
    "    \n",
    "    # Resize the emoji to the face shape\n",
    "    resized_emoji = cv2.resize(emoji, (width, height))\n",
    "\n",
    "    # Put the emoji over the face\n",
    "    alpha_s = resized_emoji[:, :, 3] / 255.0\n",
    "    alpha_l = 1.0 - alpha_s\n",
    "    for c in range(0, 3):\n",
    "        result_face[:, :, c] = alpha_s * resized_emoji[:, :, c] + alpha_l * face[:, :, c]\n",
    "    \n",
    "    return result_face"
   ],
   "outputs": [],
   "metadata": {}
  },
  {
   "cell_type": "markdown",
   "source": [
    "#### 6.3 Run face detector inference to detect faces in the image"
   ],
   "metadata": {}
  },
  {
   "cell_type": "code",
   "execution_count": null,
   "source": [
    "face_detection_inference_results = face_detector_inference(original_image)\n",
    "\n",
    "# Parse detected faces\n",
    "faces_coordinates = parse_face_detection_results(face_detection_inference_results, original_image_width, original_image_height)"
   ],
   "outputs": [],
   "metadata": {
    "tags": []
   }
  },
  {
   "cell_type": "markdown",
   "source": [
    "#### 6.4 Put emoji over the detected faces"
   ],
   "metadata": {}
  },
  {
   "cell_type": "code",
   "execution_count": null,
   "source": [
    "# Prepare the resulting image\n",
    "processed_image = original_image.copy()\n",
    "\n",
    "for face_coordinates in faces_coordinates:\n",
    "    xmin, ymin, xmax, ymax, confidence = face_coordinates\n",
    "    \n",
    "    # Get the face from the image\n",
    "    face = ...\n",
    "\n",
    "    # Run emotion recognizer \n",
    "    emotion_predictions = ...\n",
    "    \n",
    "    # Replace the face with the corresponding emoji\n",
    "    processed_face = ...\n",
    "    \n",
    "    processed_image[...] = ..."
   ],
   "outputs": [],
   "metadata": {
    "tags": []
   }
  },
  {
   "cell_type": "markdown",
   "source": [
    "#### 6.5 Show the resulting image"
   ],
   "metadata": {}
  },
  {
   "cell_type": "code",
   "execution_count": null,
   "source": [
    "show_image(processed_image)"
   ],
   "outputs": [],
   "metadata": {}
  },
  {
   "cell_type": "markdown",
   "source": [
    "## Task 4: Put emojis over faces in the video <a name=\"task4\"></a>"
   ],
   "metadata": {}
  },
  {
   "cell_type": "markdown",
   "source": [
    "### 1. Define the path to the output video"
   ],
   "metadata": {}
  },
  {
   "cell_type": "code",
   "execution_count": null,
   "source": [
    "# Output video file\n",
    "replaced_faces_output_video_path = 'data/replaced_faces_output.mp4'"
   ],
   "outputs": [],
   "metadata": {}
  },
  {
   "cell_type": "markdown",
   "source": [
    "### 2. Process the input video"
   ],
   "metadata": {}
  },
  {
   "cell_type": "code",
   "execution_count": null,
   "source": [
    "input_video_stream, output_video_stream = prepare_video_streams(input_video_path, replaced_faces_output_video_path)\n",
    "\n",
    "original_image_width  = int(input_video_stream.get(cv2.CAP_PROP_FRAME_WIDTH))\n",
    "original_image_height = int(input_video_stream.get(cv2.CAP_PROP_FRAME_HEIGHT))\n",
    "\n",
    "while input_video_stream.isOpened():\n",
    "    # 1. Read the next frame from the input video \n",
    "    return_value, original_frame = input_video_stream.read()\n",
    "    if not return_value:\n",
    "        break\n",
    "    \n",
    "    # 2. Your turn - implement the pipeline\n",
    "    raise NotImplementedError\n",
    "    \n",
    "    # 3. Write the resulting frame to the output stream\n",
    "    output_video_stream.write(original_frame)\n",
    "    \n",
    "input_video_stream.release()\n",
    "# Save the resulting video\n",
    "output_video_stream.release()"
   ],
   "outputs": [],
   "metadata": {
    "tags": []
   }
  },
  {
   "cell_type": "markdown",
   "source": [
    "### 3. Show the resulting video"
   ],
   "metadata": {}
  },
  {
   "cell_type": "code",
   "execution_count": null,
   "source": [
    "HTML(f\"\"\"<video width=\"600\" height=\"400\" controls><source src=\"{replaced_faces_output_video_path}\" type=\"video/mp4\"></video>\"\"\")"
   ],
   "outputs": [],
   "metadata": {}
  },
  {
   "cell_type": "markdown",
   "source": [
    "# What's next?"
   ],
   "metadata": {}
  },
  {
   "cell_type": "markdown",
   "source": [
    "<img src=\"pictures/recap.png\" />\n",
    "\n",
    "#### Workshop repository: [https://github.com/dl-wb-experiments/face-hiding-workshop](https://github.com/dl-wb-experiments/face-hiding-workshop)"
   ],
   "metadata": {}
  },
  {
   "cell_type": "markdown",
   "source": [
    "## 1. Try Workbench right now: locally or in DevCloud\n",
    "\n",
    "![](pictures/call-to-action.png)"
   ],
   "metadata": {}
  },
  {
   "cell_type": "markdown",
   "source": [
    "## 2. Try SberCloud with oneAPI and OpenVINO"
   ],
   "metadata": {}
  },
  {
   "cell_type": "markdown",
   "source": [
    "![](pictures/one_API.jpeg)"
   ],
   "metadata": {}
  },
  {
   "cell_type": "markdown",
   "source": [
    "## 3. [Learn OpenVINO Toolkit on the Coursera](https://www.coursera.org/learn/intel-openvino)\n",
    "\n",
    "![](pictures/ov-coursera.png)"
   ],
   "metadata": {}
  },
  {
   "cell_type": "markdown",
   "source": [
    "## 4. [Explore OpenVINO Github Repository](https://github.com/openvinotoolkit/openvino)\n",
    "\n",
    "![](pictures/ov-repository.png)"
   ],
   "metadata": {}
  },
  {
   "cell_type": "code",
   "execution_count": null,
   "source": [],
   "outputs": [],
   "metadata": {}
  }
 ],
 "metadata": {
  "kernelspec": {
   "display_name": "Python 3 (ipykernel)",
   "language": "python",
   "name": "python3"
  },
  "language_info": {
   "codemirror_mode": {
    "name": "ipython",
    "version": 3
   },
   "file_extension": ".py",
   "mimetype": "text/x-python",
   "name": "python",
   "nbconvert_exporter": "python",
   "pygments_lexer": "ipython3",
   "version": "3.8.10"
  },
  "nbTranslate": {
   "displayLangs": [
    "*"
   ],
   "hotkey": "alt-t",
   "langInMainMenu": true,
   "sourceLang": "en",
   "targetLang": "fr",
   "useGoogleTranslate": true
  },
  "toc": {
   "base_numbering": 1,
   "nav_menu": {},
   "number_sections": true,
   "sideBar": true,
   "skip_h1_title": false,
   "title_cell": "Table of Contents",
   "title_sidebar": "Contents",
   "toc_cell": false,
   "toc_position": {},
   "toc_section_display": true,
   "toc_window_display": false
  }
 },
 "nbformat": 4,
 "nbformat_minor": 4
}